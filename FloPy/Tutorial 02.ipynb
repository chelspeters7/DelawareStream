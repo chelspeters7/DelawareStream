{
 "cells": [
  {
   "cell_type": "markdown",
   "metadata": {},
   "source": [
    "https://github.com/modflowpy/flopy/blob/develop/examples/Tutorials/Tutorial02/tutorial02.py"
   ]
  },
  {
   "cell_type": "code",
   "execution_count": 191,
   "metadata": {},
   "outputs": [],
   "source": [
    "# Imports\n",
    "import os\n",
    "import numpy as np\n",
    "import matplotlib.pyplot as plt\n",
    "import flopy\n",
    "import flopy.utils.binaryfile as bf\n",
    "%matplotlib inline"
   ]
  },
  {
   "cell_type": "code",
   "execution_count": 192,
   "metadata": {},
   "outputs": [],
   "source": [
    "#Set working directory and names\n",
    "ws = 'D:/Chelsea/Projects/DelawareStream/FloPy/Tutorial02'\n",
    "wspath = 'D:/Chelsea/Projects/DelawareStream/FloPy/Tutorial02/'\n",
    "if not os.path.exists(ws): #make sure workspace directory exists\n",
    "    os.makedirs(ws)\n",
    "name = 'Tutorial02'\n",
    "modelname = 'Tutorial02'\n",
    "exe_name = os.path.abspath('D:/Chelsea/Projects/DelawareStream/Script/Executables/mf2005')"
   ]
  },
  {
   "cell_type": "code",
   "execution_count": 193,
   "metadata": {},
   "outputs": [],
   "source": [
    "# Model domain and grid definition\n",
    "Lx = 1000. #total width across rows of entire model\n",
    "Ly = 1000. #total width across columns\n",
    "ztop = 10. #top elevation of layer 1\n",
    "zbot = -50. #bottom elevation\n",
    "#nlay = 1\n",
    "nlay = 4 #number of layers\n",
    "nrow = 10 #number of rows\n",
    "ncol = 10 #number of columns\n",
    "delr = Lx / ncol #the cell width along rows\n",
    "delc = Ly / nrow #the cell width along columns\n",
    "delv = (ztop - zbot) / nlay #elevation change from top to bottom of model\n",
    "botm = np.linspace(ztop, zbot, nlay + 1) # bottom elevation of each layer including top elevation \n",
    "hk = 1. #hydraulic conductivity along rows\n",
    "vka = 1. #vertical hydraulic conductivity\n",
    "sy = 0.1 #specific yield\n",
    "ss = 1.e-4 #specific storage\n",
    "laytyp = 1 #layer type, 0 - confined, >0 - convertible, <0 - convertialbe unless THICKSTRT"
   ]
  },
  {
   "cell_type": "code",
   "execution_count": 194,
   "metadata": {},
   "outputs": [],
   "source": [
    "# Variables for the BAS package, which is used to specify (1) the location of active, inactive, and specified head cells, \n",
    "# (2) the head stored in inactive cells, and (3) the initial heads in all cells.\n",
    "\n",
    "# Note that changes from the previous tutorial!\n",
    "ibound = np.ones((nlay, nrow, ncol), dtype=np.int32) #boundary variable... one value for every cell... if >0 cell is active, if =0 cell is inactive, if <0 cell has constant head. \n",
    "strt = 10. * np.ones((nlay, nrow, ncol), dtype=np.float32) #initial starting head... one value for every cell"
   ]
  },
  {
   "cell_type": "code",
   "execution_count": 195,
   "metadata": {},
   "outputs": [],
   "source": [
    "# Time step parameters\n",
    "#nper = 3 #number of stress periods\n",
    "nper = 5\n",
    "#perlen = [1, 100, 100] #length of stress period\n",
    "perlen = [1, 100, 100, 100, 100]\n",
    "#nstp = [1, 100, 100] #number of time steps in each stress period\n",
    "nstp = [1, 100, 100, 100, 100]\n",
    "steady = [True, False, False] #transient or steady state\n",
    "steady = [True, False, False, False, False] "
   ]
  },
  {
   "cell_type": "code",
   "execution_count": 196,
   "metadata": {},
   "outputs": [],
   "source": [
    "# FloPy objects\n",
    "mf = flopy.modflow.Modflow(modelname=name, model_ws=ws, exe_name=exe_name)\n",
    "# Creates Discretization File, which gives (1) the number of rows, columns and layers, (2) the cell sizes, \n",
    "# (3) the presence of Quasi-3D confining beds, and (4) the time discretization.\n",
    "dis = flopy.modflow.ModflowDis(mf, nlay, nrow, ncol, delr=delr, delc=delc, \n",
    "                               top=ztop, botm=botm[1:], #ony takes the bottom... excludes the top elevation\n",
    "                               nper=nper, perlen=perlen, nstp=nstp,\n",
    "                               steady=steady)\n",
    "bas = flopy.modflow.ModflowBas(mf, ibound=ibound, strt=strt)\n",
    "# The Layer-Property Flow package is used to specify properties controlling flow between cells.\n",
    "# Ipakcb - A flag that is used to determine if cell-by-cell budget data should be saved. If ipakcb is non-zero cell-by-cell \n",
    "# budget data will be saved. (default is 53)\n",
    "lpf = flopy.modflow.ModflowLpf(mf, hk=hk, vka=vka, sy=sy, ss=ss, laytyp=laytyp, \n",
    "                               ipakcb=53) \n",
    "# The Preconditioned Conjugate-Gradient package is used to solve the finite difference \n",
    "# equations in each step of a MODFLOW stress period.\n",
    "pcg = flopy.modflow.ModflowPcg(mf) "
   ]
  },
  {
   "cell_type": "code",
   "execution_count": 197,
   "metadata": {},
   "outputs": [
    {
     "data": {
      "image/png": "[encoded data removed]",
      "text/plain": [
       "<Figure size 432x288 with 1 Axes>"
      ]
     },
     "metadata": {
      "needs_background": "light"
     },
     "output_type": "display_data"
    }
   ],
   "source": [
    "mm = flopy.plot.PlotMapView(model=mf)\n",
    "plota = mm.plot_grid()"
   ]
  },
  {
   "cell_type": "code",
   "execution_count": 198,
   "metadata": {},
   "outputs": [
    {
     "data": {
      "image/png": "[encoded data removed]",
      "text/plain": [
       "<Figure size 432x288 with 1 Axes>"
      ]
     },
     "metadata": {
      "needs_background": "light"
     },
     "output_type": "display_data"
    }
   ],
   "source": [
    "mm2 = flopy.plot.PlotCrossSection(model=mf, line={'row': 2})\n",
    "plotb = mm2.plot_grid()"
   ]
  },
  {
   "cell_type": "code",
   "execution_count": 199,
   "metadata": {},
   "outputs": [
    {
     "name": "stdout",
     "output_type": "stream",
     "text": [
      "Adding  80 GHBs for stress period 1.\n"
     ]
    }
   ],
   "source": [
    "# Make list for stress period 1\n",
    "stageleft = 10.\n",
    "stageright = 10.\n",
    "bound_sp1 = []\n",
    "for il in range(nlay):\n",
    "    condleft = hk * (stageleft - zbot) * delc #hydraulic conductivity * area of left face \n",
    "    condright = hk * (stageright - zbot) * delc\n",
    "    for ir in range(nrow):\n",
    "        bound_sp1.append([il, ir, 0, stageleft, condleft]) #layer, row, column, head on boundary, and conductance\n",
    "        bound_sp1.append([il, ir, ncol - 1, stageright, condright])\n",
    "print('Adding ', len(bound_sp1), 'GHBs for stress period 1.') #which is the left and right boundary conditions"
   ]
  },
  {
   "cell_type": "code",
   "execution_count": 200,
   "metadata": {},
   "outputs": [
    {
     "name": "stdout",
     "output_type": "stream",
     "text": [
      "Adding  80 GHBs for stress period 2.\n"
     ]
    }
   ],
   "source": [
    "# Make list for stress period 2\n",
    "# In the stress period 2, the head drops to 0 and becomes less conductive at the right boundary.\n",
    "stageleft = 10.\n",
    "stageright = 0.\n",
    "condleft = hk * (stageleft - zbot) * delc #hydraulic conductivity * area of left face \n",
    "condright = hk * (stageright - zbot) * delc\n",
    "bound_sp2 = []\n",
    "for il in range(nlay):\n",
    "    for ir in range(nrow):\n",
    "        bound_sp2.append([il, ir, 0, stageleft, condleft])\n",
    "        bound_sp2.append([il, ir, ncol - 1, stageright, condright])\n",
    "print('Adding ', len(bound_sp2), 'GHBs for stress period 2.') "
   ]
  },
  {
   "cell_type": "code",
   "execution_count": 201,
   "metadata": {},
   "outputs": [],
   "source": [
    "# We do not need to add a dictionary entry for stress period 3.\n",
    "# Flopy will automatically take the list from stress period 2 and apply it\n",
    "# to the end of the simulation\n",
    "stress_period_data = {0: bound_sp1, 1: bound_sp2}"
   ]
  },
  {
   "cell_type": "code",
   "execution_count": 202,
   "metadata": {},
   "outputs": [],
   "source": [
    "# Create the flopy ghb object\n",
    "# The General-Head Boundary package is used to simulate head-dependent flux boundaries.  \n",
    "# In the General-Head Boundary package the flux is always proportional to the difference in head.\n",
    "ghb = flopy.modflow.ModflowGhb(mf, stress_period_data=stress_period_data)"
   ]
  },
  {
   "cell_type": "code",
   "execution_count": 204,
   "metadata": {},
   "outputs": [
    {
     "name": "stdout",
     "output_type": "stream",
     "text": [
      "WARNING: unit 20 of package WEL already in use\n",
      "****Warning -- two packages of the same type:  <class 'flopy.modflow.mfwel.ModflowWel'> <class 'flopy.modflow.mfwel.ModflowWel'>\n",
      "replacing existing Package...\n"
     ]
    }
   ],
   "source": [
    "# Create the well package\n",
    "# Remember to use zero-based layer, row, column indices!\n",
    "# The Well package is used to simulate a specified flux to individual cells and specified in units of length3/time.\n",
    "# Here the well is only pumped during the third stress period. The well is located in the middle of model.\n",
    "pumping_rate = -500. #length3/time\n",
    "wel_sp1 = [[0, nrow/2 - 1, ncol/2 - 1, 0.]] #layer, row, col, volumetric recharge rate (+ is recharge, and - is pumping)\n",
    "wel_sp2 = [[0, nrow/2 - 1, ncol/2 - 1, 0.]]\n",
    "wel_sp3 = [[0, nrow/2 - 1, ncol/2 - 1, pumping_rate]]\n",
    "wel_sp4 = [[0, nrow/2 - 1, ncol/2 - 1, pumping_rate]]\n",
    "wel_sp5 = [[0, nrow/2 - 1, ncol/2 - 1, 0.]]\n",
    "#stress_period_data = {0: wel_sp1, 1: wel_sp2, 2: wel_sp3}\n",
    "stress_period_data = {0: wel_sp1, 1: wel_sp2, 2: wel_sp3,3: wel_sp4,4: wel_sp5}\n",
    "wel = flopy.modflow.ModflowWel(mf, stress_period_data=stress_period_data)"
   ]
  },
  {
   "cell_type": "code",
   "execution_count": 205,
   "metadata": {},
   "outputs": [],
   "source": [
    "# Output control\n",
    "# The Output Control Option is used to specify which head, drawdown, or budget data should be printed or saved.\n",
    "stress_period_data = {}\n",
    "for kper in range(nper): #for each stress period\n",
    "    for kstp in range(nstp[kper]): #for each time period\n",
    "        stress_period_data[(kper, kstp)] = ['save head',\n",
    "                                            'save drawdown',\n",
    "                                            'save budget',\n",
    "                                            'print head',\n",
    "                                            'print budget']\n",
    "oc = flopy.modflow.ModflowOc(mf, stress_period_data=stress_period_data,\n",
    "                             compact=True)"
   ]
  },
  {
   "cell_type": "code",
   "execution_count": 206,
   "metadata": {},
   "outputs": [],
   "source": [
    "# Write the model input files\n",
    "mf.write_input()"
   ]
  },
  {
   "cell_type": "code",
   "execution_count": 207,
   "metadata": {},
   "outputs": [
    {
     "name": "stdout",
     "output_type": "stream",
     "text": [
      "FloPy is using the following  executable to run the model: D:\\Chelsea\\Projects\\DelawareStream\\Script\\Executables\\mf2005.exe\n",
      "\n",
      "                                  MODFLOW-2005     \n",
      "    U.S. GEOLOGICAL SURVEY MODULAR FINITE-DIFFERENCE GROUND-WATER FLOW MODEL\n",
      "                             Version 1.12.00 2/3/2017                        \n",
      "\n",
      " Using NAME file: Tutorial02.nam \n",
      " Run start date and time (yyyy/mm/dd hh:mm:ss): 2019/07/16 11:34:20\n",
      "\n",
      " Solving:  Stress period:     1    Time step:     1    Ground-Water Flow Eqn.\n",
      " Solving:  Stress period:     2    Time step:     1    Ground-Water Flow Eqn.\n",
      " Solving:  Stress period:     2    Time step:     2    Ground-Water Flow Eqn.\n",
      " Solving:  Stress period:     2    Time step:     3    Ground-Water Flow Eqn.\n",
      " Solving:  Stress period:     2    Time step:     4    Ground-Water Flow Eqn.\n",
      " Solving:  Stress period:     2    Time step:     5    Ground-Water Flow Eqn.\n",
      " Solving:  Stress period:     2    Time step:     6    Ground-Water Flow Eqn.\n",
      " Solving:  Stress period:     2    Time step:     7    Ground-Water Flow Eqn.\n",
      " Solving:  Stress period:     2    Time step:     8    Ground-Water Flow Eqn.\n",
      " Solving:  Stress period:     2    Time step:     9    Ground-Water Flow Eqn.\n",
      " Solving:  Stress period:     2    Time step:    10    Ground-Water Flow Eqn.\n",
      " Solving:  Stress period:     2    Time step:    11    Ground-Water Flow Eqn.\n",
      " Solving:  Stress period:     2    Time step:    12    Ground-Water Flow Eqn.\n",
      " Solving:  Stress period:     2    Time step:    13    Ground-Water Flow Eqn.\n",
      " Solving:  Stress period:     2    Time step:    14    Ground-Water Flow Eqn.\n",
      " Solving:  Stress period:     2    Time step:    15    Ground-Water Flow Eqn.\n",
      " Solving:  Stress period:     2    Time step:    16    Ground-Water Flow Eqn.\n",
      " Solving:  Stress period:     2    Time step:    17    Ground-Water Flow Eqn.\n",
      " Solving:  Stress period:     2    Time step:    18    Ground-Water Flow Eqn.\n",
      " Solving:  Stress period:     2    Time step:    19    Ground-Water Flow Eqn.\n",
      " Solving:  Stress period:     2    Time step:    20    Ground-Water Flow Eqn.\n",
      " Solving:  Stress period:     2    Time step:    21    Ground-Water Flow Eqn.\n",
      " Solving:  Stress period:     2    Time step:    22    Ground-Water Flow Eqn.\n",
      " Solving:  Stress period:     2    Time step:    23    Ground-Water Flow Eqn.\n",
      " Solving:  Stress period:     2    Time step:    24    Ground-Water Flow Eqn.\n",
      " Solving:  Stress period:     2    Time step:    25    Ground-Water Flow Eqn.\n",
      " Solving:  Stress period:     2    Time step:    26    Ground-Water Flow Eqn.\n",
      " Solving:  Stress period:     2    Time step:    27    Ground-Water Flow Eqn.\n",
      " Solving:  Stress period:     2    Time step:    28    Ground-Water Flow Eqn.\n",
      " Solving:  Stress period:     2    Time step:    29    Ground-Water Flow Eqn.\n",
      " Solving:  Stress period:     2    Time step:    30    Ground-Water Flow Eqn.\n",
      " Solving:  Stress period:     2    Time step:    31    Ground-Water Flow Eqn.\n",
      " Solving:  Stress period:     2    Time step:    32    Ground-Water Flow Eqn.\n",
      " Solving:  Stress period:     2    Time step:    33    Ground-Water Flow Eqn.\n",
      " Solving:  Stress period:     2    Time step:    34    Ground-Water Flow Eqn.\n",
      " Solving:  Stress period:     2    Time step:    35    Ground-Water Flow Eqn.\n",
      " Solving:  Stress period:     2    Time step:    36    Ground-Water Flow Eqn.\n",
      " Solving:  Stress period:     2    Time step:    37    Ground-Water Flow Eqn.\n",
      " Solving:  Stress period:     2    Time step:    38    Ground-Water Flow Eqn.\n",
      " Solving:  Stress period:     2    Time step:    39    Ground-Water Flow Eqn.\n",
      " Solving:  Stress period:     2    Time step:    40    Ground-Water Flow Eqn.\n",
      " Solving:  Stress period:     2    Time step:    41    Ground-Water Flow Eqn.\n",
      " Solving:  Stress period:     2    Time step:    42    Ground-Water Flow Eqn.\n",
      " Solving:  Stress period:     2    Time step:    43    Ground-Water Flow Eqn.\n",
      " Solving:  Stress period:     2    Time step:    44    Ground-Water Flow Eqn.\n",
      " Solving:  Stress period:     2    Time step:    45    Ground-Water Flow Eqn.\n",
      " Solving:  Stress period:     2    Time step:    46    Ground-Water Flow Eqn.\n",
      " Solving:  Stress period:     2    Time step:    47    Ground-Water Flow Eqn.\n",
      " Solving:  Stress period:     2    Time step:    48    Ground-Water Flow Eqn.\n",
      " Solving:  Stress period:     2    Time step:    49    Ground-Water Flow Eqn.\n",
      " Solving:  Stress period:     2    Time step:    50    Ground-Water Flow Eqn.\n",
      " Solving:  Stress period:     2    Time step:    51    Ground-Water Flow Eqn.\n",
      " Solving:  Stress period:     2    Time step:    52    Ground-Water Flow Eqn.\n",
      " Solving:  Stress period:     2    Time step:    53    Ground-Water Flow Eqn.\n",
      " Solving:  Stress period:     2    Time step:    54    Ground-Water Flow Eqn.\n",
      " Solving:  Stress period:     2    Time step:    55    Ground-Water Flow Eqn.\n",
      " Solving:  Stress period:     2    Time step:    56    Ground-Water Flow Eqn.\n",
      " Solving:  Stress period:     2    Time step:    57    Ground-Water Flow Eqn.\n",
      " Solving:  Stress period:     2    Time step:    58    Ground-Water Flow Eqn.\n",
      " Solving:  Stress period:     2    Time step:    59    Ground-Water Flow Eqn.\n",
      " Solving:  Stress period:     2    Time step:    60    Ground-Water Flow Eqn.\n",
      " Solving:  Stress period:     2    Time step:    61    Ground-Water Flow Eqn.\n",
      " Solving:  Stress period:     2    Time step:    62    Ground-Water Flow Eqn.\n",
      " Solving:  Stress period:     2    Time step:    63    Ground-Water Flow Eqn.\n",
      " Solving:  Stress period:     2    Time step:    64    Ground-Water Flow Eqn.\n",
      " Solving:  Stress period:     2    Time step:    65    Ground-Water Flow Eqn.\n",
      " Solving:  Stress period:     2    Time step:    66    Ground-Water Flow Eqn.\n",
      " Solving:  Stress period:     2    Time step:    67    Ground-Water Flow Eqn.\n",
      " Solving:  Stress period:     2    Time step:    68    Ground-Water Flow Eqn.\n",
      " Solving:  Stress period:     2    Time step:    69    Ground-Water Flow Eqn.\n",
      " Solving:  Stress period:     2    Time step:    70    Ground-Water Flow Eqn.\n",
      " Solving:  Stress period:     2    Time step:    71    Ground-Water Flow Eqn.\n",
      " Solving:  Stress period:     2    Time step:    72    Ground-Water Flow Eqn.\n",
      " Solving:  Stress period:     2    Time step:    73    Ground-Water Flow Eqn.\n",
      " Solving:  Stress period:     2    Time step:    74    Ground-Water Flow Eqn.\n",
      " Solving:  Stress period:     2    Time step:    75    Ground-Water Flow Eqn.\n",
      " Solving:  Stress period:     2    Time step:    76    Ground-Water Flow Eqn.\n",
      " Solving:  Stress period:     2    Time step:    77    Ground-Water Flow Eqn.\n",
      " Solving:  Stress period:     2    Time step:    78    Ground-Water Flow Eqn.\n",
      " Solving:  Stress period:     2    Time step:    79    Ground-Water Flow Eqn.\n",
      " Solving:  Stress period:     2    Time step:    80    Ground-Water Flow Eqn.\n",
      " Solving:  Stress period:     2    Time step:    81    Ground-Water Flow Eqn.\n",
      " Solving:  Stress period:     2    Time step:    82    Ground-Water Flow Eqn.\n",
      " Solving:  Stress period:     2    Time step:    83    Ground-Water Flow Eqn.\n",
      " Solving:  Stress period:     2    Time step:    84    Ground-Water Flow Eqn.\n",
      " Solving:  Stress period:     2    Time step:    85    Ground-Water Flow Eqn.\n",
      " Solving:  Stress period:     2    Time step:    86    Ground-Water Flow Eqn.\n",
      " Solving:  Stress period:     2    Time step:    87    Ground-Water Flow Eqn.\n",
      " Solving:  Stress period:     2    Time step:    88    Ground-Water Flow Eqn.\n",
      " Solving:  Stress period:     2    Time step:    89    Ground-Water Flow Eqn.\n",
      " Solving:  Stress period:     2    Time step:    90    Ground-Water Flow Eqn.\n",
      " Solving:  Stress period:     2    Time step:    91    Ground-Water Flow Eqn.\n",
      " Solving:  Stress period:     2    Time step:    92    Ground-Water Flow Eqn.\n",
      " Solving:  Stress period:     2    Time step:    93    Ground-Water Flow Eqn.\n",
      " Solving:  Stress period:     2    Time step:    94    Ground-Water Flow Eqn.\n",
      " Solving:  Stress period:     2    Time step:    95    Ground-Water Flow Eqn.\n",
      " Solving:  Stress period:     2    Time step:    96    Ground-Water Flow Eqn.\n",
      " Solving:  Stress period:     2    Time step:    97    Ground-Water Flow Eqn.\n",
      " Solving:  Stress period:     2    Time step:    98    Ground-Water Flow Eqn.\n",
      " Solving:  Stress period:     2    Time step:    99    Ground-Water Flow Eqn.\n",
      " Solving:  Stress period:     2    Time step:   100    Ground-Water Flow Eqn.\n",
      " Solving:  Stress period:     3    Time step:     1    Ground-Water Flow Eqn.\n",
      " Solving:  Stress period:     3    Time step:     2    Ground-Water Flow Eqn.\n",
      " Solving:  Stress period:     3    Time step:     3    Ground-Water Flow Eqn.\n",
      " Solving:  Stress period:     3    Time step:     4    Ground-Water Flow Eqn.\n",
      " Solving:  Stress period:     3    Time step:     5    Ground-Water Flow Eqn.\n",
      " Solving:  Stress period:     3    Time step:     6    Ground-Water Flow Eqn.\n",
      " Solving:  Stress period:     3    Time step:     7    Ground-Water Flow Eqn.\n",
      " Solving:  Stress period:     3    Time step:     8    Ground-Water Flow Eqn.\n",
      " Solving:  Stress period:     3    Time step:     9    Ground-Water Flow Eqn.\n",
      " Solving:  Stress period:     3    Time step:    10    Ground-Water Flow Eqn.\n",
      " Solving:  Stress period:     3    Time step:    11    Ground-Water Flow Eqn.\n",
      " Solving:  Stress period:     3    Time step:    12    Ground-Water Flow Eqn.\n",
      " Solving:  Stress period:     3    Time step:    13    Ground-Water Flow Eqn.\n",
      " Solving:  Stress period:     3    Time step:    14    Ground-Water Flow Eqn.\n",
      " Solving:  Stress period:     3    Time step:    15    Ground-Water Flow Eqn.\n",
      " Solving:  Stress period:     3    Time step:    16    Ground-Water Flow Eqn.\n",
      " Solving:  Stress period:     3    Time step:    17    Ground-Water Flow Eqn.\n",
      " Solving:  Stress period:     3    Time step:    18    Ground-Water Flow Eqn.\n",
      " Solving:  Stress period:     3    Time step:    19    Ground-Water Flow Eqn.\n",
      " Solving:  Stress period:     3    Time step:    20    Ground-Water Flow Eqn.\n",
      " Solving:  Stress period:     3    Time step:    21    Ground-Water Flow Eqn.\n",
      " Solving:  Stress period:     3    Time step:    22    Ground-Water Flow Eqn.\n",
      " Solving:  Stress period:     3    Time step:    23    Ground-Water Flow Eqn.\n",
      " Solving:  Stress period:     3    Time step:    24    Ground-Water Flow Eqn.\n",
      " Solving:  Stress period:     3    Time step:    25    Ground-Water Flow Eqn.\n",
      " Solving:  Stress period:     3    Time step:    26    Ground-Water Flow Eqn.\n",
      " Solving:  Stress period:     3    Time step:    27    Ground-Water Flow Eqn.\n",
      " Solving:  Stress period:     3    Time step:    28    Ground-Water Flow Eqn.\n",
      " Solving:  Stress period:     3    Time step:    29    Ground-Water Flow Eqn.\n",
      " Solving:  Stress period:     3    Time step:    30    Ground-Water Flow Eqn.\n",
      " Solving:  Stress period:     3    Time step:    31    Ground-Water Flow Eqn.\n",
      " Solving:  Stress period:     3    Time step:    32    Ground-Water Flow Eqn.\n",
      " Solving:  Stress period:     3    Time step:    33    Ground-Water Flow Eqn.\n",
      " Solving:  Stress period:     3    Time step:    34    Ground-Water Flow Eqn.\n",
      " Solving:  Stress period:     3    Time step:    35    Ground-Water Flow Eqn.\n",
      " Solving:  Stress period:     3    Time step:    36    Ground-Water Flow Eqn.\n",
      " Solving:  Stress period:     3    Time step:    37    Ground-Water Flow Eqn.\n",
      " Solving:  Stress period:     3    Time step:    38    Ground-Water Flow Eqn.\n",
      " Solving:  Stress period:     3    Time step:    39    Ground-Water Flow Eqn.\n",
      " Solving:  Stress period:     3    Time step:    40    Ground-Water Flow Eqn.\n",
      " Solving:  Stress period:     3    Time step:    41    Ground-Water Flow Eqn.\n",
      " Solving:  Stress period:     3    Time step:    42    Ground-Water Flow Eqn.\n",
      " Solving:  Stress period:     3    Time step:    43    Ground-Water Flow Eqn.\n",
      " Solving:  Stress period:     3    Time step:    44    Ground-Water Flow Eqn.\n",
      " Solving:  Stress period:     3    Time step:    45    Ground-Water Flow Eqn.\n"
     ]
    },
    {
     "name": "stdout",
     "output_type": "stream",
     "text": [
      " Solving:  Stress period:     3    Time step:    46    Ground-Water Flow Eqn.\n",
      " Solving:  Stress period:     3    Time step:    47    Ground-Water Flow Eqn.\n",
      " Solving:  Stress period:     3    Time step:    48    Ground-Water Flow Eqn.\n",
      " Solving:  Stress period:     3    Time step:    49    Ground-Water Flow Eqn.\n",
      " Solving:  Stress period:     3    Time step:    50    Ground-Water Flow Eqn.\n",
      " Solving:  Stress period:     3    Time step:    51    Ground-Water Flow Eqn.\n",
      " Solving:  Stress period:     3    Time step:    52    Ground-Water Flow Eqn.\n",
      " Solving:  Stress period:     3    Time step:    53    Ground-Water Flow Eqn.\n",
      " Solving:  Stress period:     3    Time step:    54    Ground-Water Flow Eqn.\n",
      " Solving:  Stress period:     3    Time step:    55    Ground-Water Flow Eqn.\n",
      " Solving:  Stress period:     3    Time step:    56    Ground-Water Flow Eqn.\n",
      " Solving:  Stress period:     3    Time step:    57    Ground-Water Flow Eqn.\n",
      " Solving:  Stress period:     3    Time step:    58    Ground-Water Flow Eqn.\n",
      " Solving:  Stress period:     3    Time step:    59    Ground-Water Flow Eqn.\n",
      " Solving:  Stress period:     3    Time step:    60    Ground-Water Flow Eqn.\n",
      " Solving:  Stress period:     3    Time step:    61    Ground-Water Flow Eqn.\n",
      " Solving:  Stress period:     3    Time step:    62    Ground-Water Flow Eqn.\n",
      " Solving:  Stress period:     3    Time step:    63    Ground-Water Flow Eqn.\n",
      " Solving:  Stress period:     3    Time step:    64    Ground-Water Flow Eqn.\n",
      " Solving:  Stress period:     3    Time step:    65    Ground-Water Flow Eqn.\n",
      " Solving:  Stress period:     3    Time step:    66    Ground-Water Flow Eqn.\n",
      " Solving:  Stress period:     3    Time step:    67    Ground-Water Flow Eqn.\n",
      " Solving:  Stress period:     3    Time step:    68    Ground-Water Flow Eqn.\n",
      " Solving:  Stress period:     3    Time step:    69    Ground-Water Flow Eqn.\n",
      " Solving:  Stress period:     3    Time step:    70    Ground-Water Flow Eqn.\n",
      " Solving:  Stress period:     3    Time step:    71    Ground-Water Flow Eqn.\n",
      " Solving:  Stress period:     3    Time step:    72    Ground-Water Flow Eqn.\n",
      " Solving:  Stress period:     3    Time step:    73    Ground-Water Flow Eqn.\n",
      " Solving:  Stress period:     3    Time step:    74    Ground-Water Flow Eqn.\n",
      " Solving:  Stress period:     3    Time step:    75    Ground-Water Flow Eqn.\n",
      " Solving:  Stress period:     3    Time step:    76    Ground-Water Flow Eqn.\n",
      " Solving:  Stress period:     3    Time step:    77    Ground-Water Flow Eqn.\n",
      " Solving:  Stress period:     3    Time step:    78    Ground-Water Flow Eqn.\n",
      " Solving:  Stress period:     3    Time step:    79    Ground-Water Flow Eqn.\n",
      " Solving:  Stress period:     3    Time step:    80    Ground-Water Flow Eqn.\n",
      " Solving:  Stress period:     3    Time step:    81    Ground-Water Flow Eqn.\n",
      " Solving:  Stress period:     3    Time step:    82    Ground-Water Flow Eqn.\n",
      " Solving:  Stress period:     3    Time step:    83    Ground-Water Flow Eqn.\n",
      " Solving:  Stress period:     3    Time step:    84    Ground-Water Flow Eqn.\n",
      " Solving:  Stress period:     3    Time step:    85    Ground-Water Flow Eqn.\n",
      " Solving:  Stress period:     3    Time step:    86    Ground-Water Flow Eqn.\n",
      " Solving:  Stress period:     3    Time step:    87    Ground-Water Flow Eqn.\n",
      " Solving:  Stress period:     3    Time step:    88    Ground-Water Flow Eqn.\n",
      " Solving:  Stress period:     3    Time step:    89    Ground-Water Flow Eqn.\n",
      " Solving:  Stress period:     3    Time step:    90    Ground-Water Flow Eqn.\n",
      " Solving:  Stress period:     3    Time step:    91    Ground-Water Flow Eqn.\n",
      " Solving:  Stress period:     3    Time step:    92    Ground-Water Flow Eqn.\n",
      " Solving:  Stress period:     3    Time step:    93    Ground-Water Flow Eqn.\n",
      " Solving:  Stress period:     3    Time step:    94    Ground-Water Flow Eqn.\n",
      " Solving:  Stress period:     3    Time step:    95    Ground-Water Flow Eqn.\n",
      " Solving:  Stress period:     3    Time step:    96    Ground-Water Flow Eqn.\n",
      " Solving:  Stress period:     3    Time step:    97    Ground-Water Flow Eqn.\n",
      " Solving:  Stress period:     3    Time step:    98    Ground-Water Flow Eqn.\n",
      " Solving:  Stress period:     3    Time step:    99    Ground-Water Flow Eqn.\n",
      " Solving:  Stress period:     3    Time step:   100    Ground-Water Flow Eqn.\n",
      " Solving:  Stress period:     4    Time step:     1    Ground-Water Flow Eqn.\n",
      " Solving:  Stress period:     4    Time step:     2    Ground-Water Flow Eqn.\n",
      " Solving:  Stress period:     4    Time step:     3    Ground-Water Flow Eqn.\n",
      " Solving:  Stress period:     4    Time step:     4    Ground-Water Flow Eqn.\n",
      " Solving:  Stress period:     4    Time step:     5    Ground-Water Flow Eqn.\n",
      " Solving:  Stress period:     4    Time step:     6    Ground-Water Flow Eqn.\n",
      " Solving:  Stress period:     4    Time step:     7    Ground-Water Flow Eqn.\n",
      " Solving:  Stress period:     4    Time step:     8    Ground-Water Flow Eqn.\n",
      " Solving:  Stress period:     4    Time step:     9    Ground-Water Flow Eqn.\n",
      " Solving:  Stress period:     4    Time step:    10    Ground-Water Flow Eqn.\n",
      " Solving:  Stress period:     4    Time step:    11    Ground-Water Flow Eqn.\n",
      " Solving:  Stress period:     4    Time step:    12    Ground-Water Flow Eqn.\n",
      " Solving:  Stress period:     4    Time step:    13    Ground-Water Flow Eqn.\n",
      " Solving:  Stress period:     4    Time step:    14    Ground-Water Flow Eqn.\n",
      " Solving:  Stress period:     4    Time step:    15    Ground-Water Flow Eqn.\n",
      " Solving:  Stress period:     4    Time step:    16    Ground-Water Flow Eqn.\n",
      " Solving:  Stress period:     4    Time step:    17    Ground-Water Flow Eqn.\n",
      " Solving:  Stress period:     4    Time step:    18    Ground-Water Flow Eqn.\n",
      " Solving:  Stress period:     4    Time step:    19    Ground-Water Flow Eqn.\n",
      " Solving:  Stress period:     4    Time step:    20    Ground-Water Flow Eqn.\n",
      " Solving:  Stress period:     4    Time step:    21    Ground-Water Flow Eqn.\n",
      " Solving:  Stress period:     4    Time step:    22    Ground-Water Flow Eqn.\n",
      " Solving:  Stress period:     4    Time step:    23    Ground-Water Flow Eqn.\n",
      " Solving:  Stress period:     4    Time step:    24    Ground-Water Flow Eqn.\n",
      " Solving:  Stress period:     4    Time step:    25    Ground-Water Flow Eqn.\n",
      " Solving:  Stress period:     4    Time step:    26    Ground-Water Flow Eqn.\n",
      " Solving:  Stress period:     4    Time step:    27    Ground-Water Flow Eqn.\n",
      " Solving:  Stress period:     4    Time step:    28    Ground-Water Flow Eqn.\n",
      " Solving:  Stress period:     4    Time step:    29    Ground-Water Flow Eqn.\n",
      " Solving:  Stress period:     4    Time step:    30    Ground-Water Flow Eqn.\n",
      " Solving:  Stress period:     4    Time step:    31    Ground-Water Flow Eqn.\n",
      " Solving:  Stress period:     4    Time step:    32    Ground-Water Flow Eqn.\n",
      " Solving:  Stress period:     4    Time step:    33    Ground-Water Flow Eqn.\n",
      " Solving:  Stress period:     4    Time step:    34    Ground-Water Flow Eqn.\n",
      " Solving:  Stress period:     4    Time step:    35    Ground-Water Flow Eqn.\n",
      " Solving:  Stress period:     4    Time step:    36    Ground-Water Flow Eqn.\n",
      " Solving:  Stress period:     4    Time step:    37    Ground-Water Flow Eqn.\n",
      " Solving:  Stress period:     4    Time step:    38    Ground-Water Flow Eqn.\n",
      " Solving:  Stress period:     4    Time step:    39    Ground-Water Flow Eqn.\n",
      " Solving:  Stress period:     4    Time step:    40    Ground-Water Flow Eqn.\n",
      " Solving:  Stress period:     4    Time step:    41    Ground-Water Flow Eqn.\n",
      " Solving:  Stress period:     4    Time step:    42    Ground-Water Flow Eqn.\n",
      " Solving:  Stress period:     4    Time step:    43    Ground-Water Flow Eqn.\n",
      " Solving:  Stress period:     4    Time step:    44    Ground-Water Flow Eqn.\n",
      " Solving:  Stress period:     4    Time step:    45    Ground-Water Flow Eqn.\n",
      " Solving:  Stress period:     4    Time step:    46    Ground-Water Flow Eqn.\n",
      " Solving:  Stress period:     4    Time step:    47    Ground-Water Flow Eqn.\n",
      " Solving:  Stress period:     4    Time step:    48    Ground-Water Flow Eqn.\n",
      " Solving:  Stress period:     4    Time step:    49    Ground-Water Flow Eqn.\n",
      " Solving:  Stress period:     4    Time step:    50    Ground-Water Flow Eqn.\n",
      " Solving:  Stress period:     4    Time step:    51    Ground-Water Flow Eqn.\n",
      " Solving:  Stress period:     4    Time step:    52    Ground-Water Flow Eqn.\n",
      " Solving:  Stress period:     4    Time step:    53    Ground-Water Flow Eqn.\n",
      " Solving:  Stress period:     4    Time step:    54    Ground-Water Flow Eqn.\n",
      " Solving:  Stress period:     4    Time step:    55    Ground-Water Flow Eqn.\n",
      " Solving:  Stress period:     4    Time step:    56    Ground-Water Flow Eqn.\n",
      " Solving:  Stress period:     4    Time step:    57    Ground-Water Flow Eqn.\n",
      " Solving:  Stress period:     4    Time step:    58    Ground-Water Flow Eqn.\n",
      " Solving:  Stress period:     4    Time step:    59    Ground-Water Flow Eqn.\n"
     ]
    },
    {
     "name": "stdout",
     "output_type": "stream",
     "text": [
      " Solving:  Stress period:     4    Time step:    60    Ground-Water Flow Eqn.\n",
      " Solving:  Stress period:     4    Time step:    61    Ground-Water Flow Eqn.\n",
      " Solving:  Stress period:     4    Time step:    62    Ground-Water Flow Eqn.\n",
      " Solving:  Stress period:     4    Time step:    63    Ground-Water Flow Eqn.\n",
      " Solving:  Stress period:     4    Time step:    64    Ground-Water Flow Eqn.\n",
      " Solving:  Stress period:     4    Time step:    65    Ground-Water Flow Eqn.\n",
      " Solving:  Stress period:     4    Time step:    66    Ground-Water Flow Eqn.\n",
      " Solving:  Stress period:     4    Time step:    67    Ground-Water Flow Eqn.\n",
      " Solving:  Stress period:     4    Time step:    68    Ground-Water Flow Eqn.\n",
      " Solving:  Stress period:     4    Time step:    69    Ground-Water Flow Eqn.\n",
      " Solving:  Stress period:     4    Time step:    70    Ground-Water Flow Eqn.\n",
      " Solving:  Stress period:     4    Time step:    71    Ground-Water Flow Eqn.\n",
      " Solving:  Stress period:     4    Time step:    72    Ground-Water Flow Eqn.\n",
      " Solving:  Stress period:     4    Time step:    73    Ground-Water Flow Eqn.\n",
      " Solving:  Stress period:     4    Time step:    74    Ground-Water Flow Eqn.\n",
      " Solving:  Stress period:     4    Time step:    75    Ground-Water Flow Eqn.\n",
      " Solving:  Stress period:     4    Time step:    76    Ground-Water Flow Eqn.\n",
      " Solving:  Stress period:     4    Time step:    77    Ground-Water Flow Eqn.\n",
      " Solving:  Stress period:     4    Time step:    78    Ground-Water Flow Eqn.\n",
      " Solving:  Stress period:     4    Time step:    79    Ground-Water Flow Eqn.\n",
      " Solving:  Stress period:     4    Time step:    80    Ground-Water Flow Eqn.\n",
      " Solving:  Stress period:     4    Time step:    81    Ground-Water Flow Eqn.\n",
      " Solving:  Stress period:     4    Time step:    82    Ground-Water Flow Eqn.\n",
      " Solving:  Stress period:     4    Time step:    83    Ground-Water Flow Eqn.\n",
      " Solving:  Stress period:     4    Time step:    84    Ground-Water Flow Eqn.\n",
      " Solving:  Stress period:     4    Time step:    85    Ground-Water Flow Eqn.\n",
      " Solving:  Stress period:     4    Time step:    86    Ground-Water Flow Eqn.\n",
      " Solving:  Stress period:     4    Time step:    87    Ground-Water Flow Eqn.\n",
      " Solving:  Stress period:     4    Time step:    88    Ground-Water Flow Eqn.\n",
      " Solving:  Stress period:     4    Time step:    89    Ground-Water Flow Eqn.\n",
      " Solving:  Stress period:     4    Time step:    90    Ground-Water Flow Eqn.\n",
      " Solving:  Stress period:     4    Time step:    91    Ground-Water Flow Eqn.\n",
      " Solving:  Stress period:     4    Time step:    92    Ground-Water Flow Eqn.\n",
      " Solving:  Stress period:     4    Time step:    93    Ground-Water Flow Eqn.\n",
      " Solving:  Stress period:     4    Time step:    94    Ground-Water Flow Eqn.\n",
      " Solving:  Stress period:     4    Time step:    95    Ground-Water Flow Eqn.\n",
      " Solving:  Stress period:     4    Time step:    96    Ground-Water Flow Eqn.\n",
      " Solving:  Stress period:     4    Time step:    97    Ground-Water Flow Eqn.\n",
      " Solving:  Stress period:     4    Time step:    98    Ground-Water Flow Eqn.\n",
      " Solving:  Stress period:     4    Time step:    99    Ground-Water Flow Eqn.\n",
      " Solving:  Stress period:     4    Time step:   100    Ground-Water Flow Eqn.\n",
      " Solving:  Stress period:     5    Time step:     1    Ground-Water Flow Eqn.\n",
      " Solving:  Stress period:     5    Time step:     2    Ground-Water Flow Eqn.\n",
      " Solving:  Stress period:     5    Time step:     3    Ground-Water Flow Eqn.\n",
      " Solving:  Stress period:     5    Time step:     4    Ground-Water Flow Eqn.\n",
      " Solving:  Stress period:     5    Time step:     5    Ground-Water Flow Eqn.\n",
      " Solving:  Stress period:     5    Time step:     6    Ground-Water Flow Eqn.\n",
      " Solving:  Stress period:     5    Time step:     7    Ground-Water Flow Eqn.\n",
      " Solving:  Stress period:     5    Time step:     8    Ground-Water Flow Eqn.\n",
      " Solving:  Stress period:     5    Time step:     9    Ground-Water Flow Eqn.\n",
      " Solving:  Stress period:     5    Time step:    10    Ground-Water Flow Eqn.\n",
      " Solving:  Stress period:     5    Time step:    11    Ground-Water Flow Eqn.\n",
      " Solving:  Stress period:     5    Time step:    12    Ground-Water Flow Eqn.\n",
      " Solving:  Stress period:     5    Time step:    13    Ground-Water Flow Eqn.\n",
      " Solving:  Stress period:     5    Time step:    14    Ground-Water Flow Eqn.\n",
      " Solving:  Stress period:     5    Time step:    15    Ground-Water Flow Eqn.\n",
      " Solving:  Stress period:     5    Time step:    16    Ground-Water Flow Eqn.\n",
      " Solving:  Stress period:     5    Time step:    17    Ground-Water Flow Eqn.\n",
      " Solving:  Stress period:     5    Time step:    18    Ground-Water Flow Eqn.\n",
      " Solving:  Stress period:     5    Time step:    19    Ground-Water Flow Eqn.\n",
      " Solving:  Stress period:     5    Time step:    20    Ground-Water Flow Eqn.\n",
      " Solving:  Stress period:     5    Time step:    21    Ground-Water Flow Eqn.\n",
      " Solving:  Stress period:     5    Time step:    22    Ground-Water Flow Eqn.\n",
      " Solving:  Stress period:     5    Time step:    23    Ground-Water Flow Eqn.\n",
      " Solving:  Stress period:     5    Time step:    24    Ground-Water Flow Eqn.\n",
      " Solving:  Stress period:     5    Time step:    25    Ground-Water Flow Eqn.\n",
      " Solving:  Stress period:     5    Time step:    26    Ground-Water Flow Eqn.\n",
      " Solving:  Stress period:     5    Time step:    27    Ground-Water Flow Eqn.\n",
      " Solving:  Stress period:     5    Time step:    28    Ground-Water Flow Eqn.\n",
      " Solving:  Stress period:     5    Time step:    29    Ground-Water Flow Eqn.\n",
      " Solving:  Stress period:     5    Time step:    30    Ground-Water Flow Eqn.\n",
      " Solving:  Stress period:     5    Time step:    31    Ground-Water Flow Eqn.\n",
      " Solving:  Stress period:     5    Time step:    32    Ground-Water Flow Eqn.\n",
      " Solving:  Stress period:     5    Time step:    33    Ground-Water Flow Eqn.\n",
      " Solving:  Stress period:     5    Time step:    34    Ground-Water Flow Eqn.\n",
      " Solving:  Stress period:     5    Time step:    35    Ground-Water Flow Eqn.\n",
      " Solving:  Stress period:     5    Time step:    36    Ground-Water Flow Eqn.\n",
      " Solving:  Stress period:     5    Time step:    37    Ground-Water Flow Eqn.\n",
      " Solving:  Stress period:     5    Time step:    38    Ground-Water Flow Eqn.\n",
      " Solving:  Stress period:     5    Time step:    39    Ground-Water Flow Eqn.\n",
      " Solving:  Stress period:     5    Time step:    40    Ground-Water Flow Eqn.\n",
      " Solving:  Stress period:     5    Time step:    41    Ground-Water Flow Eqn.\n",
      " Solving:  Stress period:     5    Time step:    42    Ground-Water Flow Eqn.\n",
      " Solving:  Stress period:     5    Time step:    43    Ground-Water Flow Eqn.\n",
      " Solving:  Stress period:     5    Time step:    44    Ground-Water Flow Eqn.\n",
      " Solving:  Stress period:     5    Time step:    45    Ground-Water Flow Eqn.\n",
      " Solving:  Stress period:     5    Time step:    46    Ground-Water Flow Eqn.\n",
      " Solving:  Stress period:     5    Time step:    47    Ground-Water Flow Eqn.\n",
      " Solving:  Stress period:     5    Time step:    48    Ground-Water Flow Eqn.\n",
      " Solving:  Stress period:     5    Time step:    49    Ground-Water Flow Eqn.\n",
      " Solving:  Stress period:     5    Time step:    50    Ground-Water Flow Eqn.\n",
      " Solving:  Stress period:     5    Time step:    51    Ground-Water Flow Eqn.\n",
      " Solving:  Stress period:     5    Time step:    52    Ground-Water Flow Eqn.\n",
      " Solving:  Stress period:     5    Time step:    53    Ground-Water Flow Eqn.\n",
      " Solving:  Stress period:     5    Time step:    54    Ground-Water Flow Eqn.\n",
      " Solving:  Stress period:     5    Time step:    55    Ground-Water Flow Eqn.\n",
      " Solving:  Stress period:     5    Time step:    56    Ground-Water Flow Eqn.\n",
      " Solving:  Stress period:     5    Time step:    57    Ground-Water Flow Eqn.\n",
      " Solving:  Stress period:     5    Time step:    58    Ground-Water Flow Eqn.\n",
      " Solving:  Stress period:     5    Time step:    59    Ground-Water Flow Eqn.\n",
      " Solving:  Stress period:     5    Time step:    60    Ground-Water Flow Eqn.\n",
      " Solving:  Stress period:     5    Time step:    61    Ground-Water Flow Eqn.\n",
      " Solving:  Stress period:     5    Time step:    62    Ground-Water Flow Eqn.\n",
      " Solving:  Stress period:     5    Time step:    63    Ground-Water Flow Eqn.\n",
      " Solving:  Stress period:     5    Time step:    64    Ground-Water Flow Eqn.\n",
      " Solving:  Stress period:     5    Time step:    65    Ground-Water Flow Eqn.\n",
      " Solving:  Stress period:     5    Time step:    66    Ground-Water Flow Eqn.\n",
      " Solving:  Stress period:     5    Time step:    67    Ground-Water Flow Eqn.\n",
      " Solving:  Stress period:     5    Time step:    68    Ground-Water Flow Eqn.\n",
      " Solving:  Stress period:     5    Time step:    69    Ground-Water Flow Eqn.\n",
      " Solving:  Stress period:     5    Time step:    70    Ground-Water Flow Eqn.\n",
      " Solving:  Stress period:     5    Time step:    71    Ground-Water Flow Eqn.\n",
      " Solving:  Stress period:     5    Time step:    72    Ground-Water Flow Eqn.\n"
     ]
    },
    {
     "name": "stdout",
     "output_type": "stream",
     "text": [
      " Solving:  Stress period:     5    Time step:    73    Ground-Water Flow Eqn.\n",
      " Solving:  Stress period:     5    Time step:    74    Ground-Water Flow Eqn.\n",
      " Solving:  Stress period:     5    Time step:    75    Ground-Water Flow Eqn.\n",
      " Solving:  Stress period:     5    Time step:    76    Ground-Water Flow Eqn.\n",
      " Solving:  Stress period:     5    Time step:    77    Ground-Water Flow Eqn.\n",
      " Solving:  Stress period:     5    Time step:    78    Ground-Water Flow Eqn.\n",
      " Solving:  Stress period:     5    Time step:    79    Ground-Water Flow Eqn.\n",
      " Solving:  Stress period:     5    Time step:    80    Ground-Water Flow Eqn.\n",
      " Solving:  Stress period:     5    Time step:    81    Ground-Water Flow Eqn.\n",
      " Solving:  Stress period:     5    Time step:    82    Ground-Water Flow Eqn.\n",
      " Solving:  Stress period:     5    Time step:    83    Ground-Water Flow Eqn.\n",
      " Solving:  Stress period:     5    Time step:    84    Ground-Water Flow Eqn.\n",
      " Solving:  Stress period:     5    Time step:    85    Ground-Water Flow Eqn.\n",
      " Solving:  Stress period:     5    Time step:    86    Ground-Water Flow Eqn.\n",
      " Solving:  Stress period:     5    Time step:    87    Ground-Water Flow Eqn.\n",
      " Solving:  Stress period:     5    Time step:    88    Ground-Water Flow Eqn.\n",
      " Solving:  Stress period:     5    Time step:    89    Ground-Water Flow Eqn.\n",
      " Solving:  Stress period:     5    Time step:    90    Ground-Water Flow Eqn.\n",
      " Solving:  Stress period:     5    Time step:    91    Ground-Water Flow Eqn.\n",
      " Solving:  Stress period:     5    Time step:    92    Ground-Water Flow Eqn.\n",
      " Solving:  Stress period:     5    Time step:    93    Ground-Water Flow Eqn.\n",
      " Solving:  Stress period:     5    Time step:    94    Ground-Water Flow Eqn.\n",
      " Solving:  Stress period:     5    Time step:    95    Ground-Water Flow Eqn.\n",
      " Solving:  Stress period:     5    Time step:    96    Ground-Water Flow Eqn.\n",
      " Solving:  Stress period:     5    Time step:    97    Ground-Water Flow Eqn.\n",
      " Solving:  Stress period:     5    Time step:    98    Ground-Water Flow Eqn.\n",
      " Solving:  Stress period:     5    Time step:    99    Ground-Water Flow Eqn.\n",
      " Solving:  Stress period:     5    Time step:   100    Ground-Water Flow Eqn.\n",
      " Run end date and time (yyyy/mm/dd hh:mm:ss): 2019/07/16 11:34:20\n",
      " Elapsed run time:  0.723 Seconds\n",
      "\n",
      "  Normal termination of simulation\n"
     ]
    }
   ],
   "source": [
    "# Run the model\n",
    "success, mfoutput = mf.run_model(silent=False, pause=False)\n",
    "if not success:\n",
    "    raise Exception('MODFLOW did not terminate normally.')"
   ]
  },
  {
   "cell_type": "code",
   "execution_count": 208,
   "metadata": {},
   "outputs": [],
   "source": [
    "# Create the headfile and budget file objects\n",
    "headobj = bf.HeadFile(wspath+modelname+'.hds')\n",
    "times = headobj.get_times()\n",
    "cbb = bf.CellBudgetFile(wspath+modelname+'.cbc')"
   ]
  },
  {
   "cell_type": "code",
   "execution_count": 209,
   "metadata": {},
   "outputs": [
    {
     "name": "stdout",
     "output_type": "stream",
     "text": [
      "Levels:  [ 0.  1.  2.  3.  4.  5.  6.  7.  8.  9. 10.]\n",
      "Extent:  (50.0, 950.0, 50.0, 950.0)\n"
     ]
    }
   ],
   "source": [
    "# Setup contour parameters\n",
    "levels = np.linspace(0, 10, 11)\n",
    "extent = (delr/2., Lx - delr/2., delc/2., Ly - delc/2.)\n",
    "print('Levels: ', levels)\n",
    "print('Extent: ', extent)"
   ]
  },
  {
   "cell_type": "code",
   "execution_count": 210,
   "metadata": {},
   "outputs": [
    {
     "name": "stdout",
     "output_type": "stream",
     "text": [
      "(450.0, 450.0)\n",
      "(450.0, 550.0)\n"
     ]
    }
   ],
   "source": [
    "# Well point\n",
    "wpt = ((float(ncol/2)-0.5)*delr, (float(nrow/2-1)+0.5)*delc)\n",
    "print(wpt)\n",
    "wpt = (450., 550.)\n",
    "print(wpt)"
   ]
  },
  {
   "cell_type": "code",
   "execution_count": 212,
   "metadata": {
    "scrolled": true
   },
   "outputs": [
    {
     "name": "stdout",
     "output_type": "stream",
     "text": [
      "*****Processing time:  1.0\n",
      "Head statistics\n",
      "  min:  10.0\n",
      "  max:  10.0\n",
      "  std:  0.0\n",
      "*****Processing time:  101.0\n",
      "Head statistics\n",
      "  min:  0.0038677605\n",
      "  max:  9.999641\n",
      "  std:  3.256881\n",
      "*****Processing time:  201.0\n"
     ]
    },
    {
     "name": "stderr",
     "output_type": "stream",
     "text": [
      "C:\\ProgramData\\Anaconda3\\lib\\site-packages\\matplotlib\\figure.py:98: MatplotlibDeprecationWarning: \n",
      "Adding an axes using the same arguments as a previous axes currently reuses the earlier instance.  In a future version, a new instance will always be created and returned.  Meanwhile, this warning can be suppressed, and the future behavior ensured, by passing a unique label to each axes instance.\n",
      "  \"Adding an axes using the same arguments as a previous axes \"\n"
     ]
    },
    {
     "name": "stdout",
     "output_type": "stream",
     "text": [
      "Head statistics\n",
      "  min:  0.002368545\n",
      "  max:  9.998619\n",
      "  std:  3.1602368\n",
      "*****Processing time:  301.0\n",
      "Head statistics\n",
      "  min:  0.0016500407\n",
      "  max:  9.997814\n",
      "  std:  3.1688716\n",
      "*****Processing time:  401.0\n",
      "Head statistics\n",
      "  min:  0.001571232\n",
      "  max:  9.997493\n",
      "  std:  3.181871\n"
     ]
    },
    {
     "data": {
      "image/png": "[encoded data removed]",
      "text/plain": [
       "<Figure size 432x288 with 1 Axes>"
      ]
     },
     "metadata": {
      "needs_background": "light"
     },
     "output_type": "display_data"
    }
   ],
   "source": [
    "# Make the plots\n",
    "#mytimes = [1.0, 101.0, 201.0]\n",
    "mytimes = [1.0, 101.0, 201.0, 301.0, 401.0]\n",
    "for iplot, time in enumerate(mytimes):\n",
    "    print('*****Processing time: ', time)\n",
    "    head = headobj.get_data(totim=time)\n",
    "    #Print statistics\n",
    "    print('Head statistics')\n",
    "    print('  min: ', head.min())\n",
    "    print('  max: ', head.max())\n",
    "    print('  std: ', head.std())\n",
    "\n",
    "    # Extract flow right face and flow front face\n",
    "    frf = cbb.get_data(text='FLOW RIGHT FACE', totim=time)[0]\n",
    "    fff = cbb.get_data(text='FLOW FRONT FACE', totim=time)[0]\n",
    "\n",
    "    #Create the plot\n",
    "    #plt.subplot(1, len(mytimes), iplot + 1, aspect='equal')\n",
    "    plt.subplot(1, 1, 1, aspect='equal')\n",
    "    plt.title('stress period ' + str(iplot + 1))\n",
    "\n",
    "\n",
    "    modelmap = flopy.plot.PlotMapView(model=mf, layer=0)\n",
    "    qm = modelmap.plot_ibound()\n",
    "    lc = modelmap.plot_grid()\n",
    "    #qm = modelmap.plot_bc('GHB')#, alpha=0.5)\n",
    "    cs = modelmap.contour_array(head, levels=levels)\n",
    "    plt.clabel(cs, inline=1, fontsize=10, fmt='%1.1f')#, zorder=11\n",
    "    quiver = modelmap.plot_discharge(frf, fff, head=head)\n",
    "    \n",
    "    mfc = 'None'\n",
    "    if (iplot+1) == len(mytimes):\n",
    "        mfc='black'\n",
    "    plt.plot(wpt[0], wpt[1], lw=0, marker='o', markersize=8, \n",
    "             markeredgewidth=0.5,\n",
    "             markeredgecolor='black', markerfacecolor=mfc, zorder=9)\n",
    "    plt.text(wpt[0]+25, wpt[1]-25, 'well', size=12, zorder=12)\n",
    "    plt.savefig(wspath+'tutorial2-{}.png'.format(iplot))"
   ]
  },
  {
   "cell_type": "code",
   "execution_count": 163,
   "metadata": {},
   "outputs": [
    {
     "data": {
      "image/png": "[encoded data removed]",
      "text/plain": [
       "<Figure size 432x288 with 1 Axes>"
      ]
     },
     "metadata": {
      "needs_background": "light"
     },
     "output_type": "display_data"
    }
   ],
   "source": [
    "# Plot the head versus time\n",
    "# This is the well spot, notice how pumping started ony in the last stress period\n",
    "idx = (0, int(nrow/2) - 1, int(ncol/2) - 1)\n",
    "ts = headobj.get_ts(idx)\n",
    "plt.subplot(1, 1, 1)\n",
    "ttl = 'Head at cell ({0},{1},{2})'.format(idx[0] + 1, idx[1] + 1, idx[2] + 1)\n",
    "plt.title(ttl)\n",
    "plt.xlabel('time')\n",
    "plt.ylabel('head')\n",
    "plt.plot(ts[:, 0], ts[:, 1], 'bo-')\n",
    "plt.savefig(wspath+'tutorial2-ts.png')"
   ]
  },
  {
   "cell_type": "code",
   "execution_count": null,
   "metadata": {},
   "outputs": [],
   "source": []
  }
 ],
 "metadata": {
  "kernelspec": {
   "display_name": "Python 3",
   "language": "python",
   "name": "python3"
  },
  "language_info": {
   "codemirror_mode": {
    "name": "ipython",
    "version": 3
   },
   "file_extension": ".py",
   "mimetype": "text/x-python",
   "name": "python",
   "nbconvert_exporter": "python",
   "pygments_lexer": "ipython3",
   "version": "3.7.3"
  }
 },
 "nbformat": 4,
 "nbformat_minor": 2
}
