{
 "cells": [
  {
   "cell_type": "code",
   "execution_count": 1,
   "metadata": {},
   "outputs": [
    {
     "name": "stdout",
     "output_type": "stream",
     "text": [
      "flopy is installed in C:\\Users\\cnpeters\\Anaconda3\\lib\\site-packages\\flopy\n"
     ]
    }
   ],
   "source": [
    "import flopy\n",
    "fm = flopy.modflow\n",
    "import numpy as np\n",
    "import pandas as pd\n",
    "import matplotlib.pyplot as plt\n",
    "%matplotlib inline\n",
    "plt.rcParams['figure.figsize'] = (11, 8.5)\n",
    "\n",
    "#01484080"
   ]
  },
  {
   "cell_type": "code",
   "execution_count": 2,
   "metadata": {},
   "outputs": [],
   "source": [
    "namefile = 'lpr_inset.nam'\n",
    "model_ws = '../data/lpr_inset/'\n",
    "listingfile = '{}/lpr_inset.list'.format(model_ws)\n",
    "gagefile = '{}/5400625lpr.ggo'.format(model_ws)\n",
    "start_datetime = '2014-01-01'\n",
    "\n",
    "gage_data_url = 'https://nwis.waterdata.usgs.gov/wi/nwis/uv?&format=rdb&site_no=05400625&period=&begin_date=2014-01-01&end_date=2014-12-31'"
   ]
  },
  {
   "cell_type": "code",
   "execution_count": null,
   "metadata": {},
   "outputs": [],
   "source": [
    "#loading the gage file using read_csv\n",
    "ggo = pd.read_csv(gagefile, skiprows=1, header=None, delim_whitespace=True, names=['time', 'stage', 'flow'])\n",
    "ggo.head()\n",
    "start_ts = pd.Timestamp(start_datetime)\n",
    "start_ts\n",
    "pd.to_timedelta(ggo.time, unit='D').head()\n",
    "ggo['datetime'] = pd.to_timedelta(ggo.time, unit='D') + start_ts\n",
    "ggo.index = ggo.datetime\n",
    "ggo.head()\n",
    "ggo.flow.plot()"
   ]
  },
  {
   "cell_type": "code",
   "execution_count": null,
   "metadata": {},
   "outputs": [],
   "source": [
    "gage_data_url = 'https://nwis.waterdata.usgs.gov/wi/nwis/uv?&format=rdb&site_no=05400625&period=&begin_date=2014-01-01&end_date=2014-12-31'ggo = pd.read_csv(gagefile, skiprows=1, header=None, delim_whitespace=True, names=['time', 'stage', 'flow'])\n",
    "ggo.head()\n"
   ]
  },
  {
   "cell_type": "code",
   "execution_count": 3,
   "metadata": {},
   "outputs": [
    {
     "data": {
      "text/plain": [
       "'../data/lpr_inset//5400625lpr.ggo'"
      ]
     },
     "execution_count": 3,
     "metadata": {},
     "output_type": "execute_result"
    }
   ],
   "source": [
    "gagefile"
   ]
  },
  {
   "cell_type": "code",
   "execution_count": null,
   "metadata": {},
   "outputs": [],
   "source": []
  },
  {
   "cell_type": "code",
   "execution_count": null,
   "metadata": {},
   "outputs": [],
   "source": []
  }
 ],
 "metadata": {
  "kernelspec": {
   "display_name": "Python 3",
   "language": "python",
   "name": "python3"
  },
  "language_info": {
   "codemirror_mode": {
    "name": "ipython",
    "version": 3
   },
   "file_extension": ".py",
   "mimetype": "text/x-python",
   "name": "python",
   "nbconvert_exporter": "python",
   "pygments_lexer": "ipython3",
   "version": "3.7.3"
  }
 },
 "nbformat": 4,
 "nbformat_minor": 2
}
