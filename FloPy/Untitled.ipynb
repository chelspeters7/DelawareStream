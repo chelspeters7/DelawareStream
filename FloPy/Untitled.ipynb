{
 "cells": [
  {
   "cell_type": "code",
   "execution_count": 1,
   "metadata": {},
   "outputs": [
    {
     "name": "stdout",
     "output_type": "stream",
     "text": [
      "flopy is installed in C:\\ProgramData\\Anaconda3\\lib\\site-packages\\flopy\n"
     ]
    }
   ],
   "source": [
    "# Imports\n",
    "import os\n",
    "import numpy as np\n",
    "import matplotlib.pyplot as plt\n",
    "import flopy\n",
    "import flopy.utils.binaryfile as bf\n",
    "%matplotlib inline"
   ]
  },
  {
   "cell_type": "code",
   "execution_count": 2,
   "metadata": {},
   "outputs": [],
   "source": [
    "#Set working directory and names\n",
    "ws = 'D:/Chelsea/Projects/DelawareStream/FloPy/Tutorial02wMT3DMS3'\n",
    "wspath = 'D:/Chelsea/Projects/DelawareStream/FloPy/Tutorial02wMT3DMS3/'\n",
    "if not os.path.exists(ws): #make sure workspace directory exists\n",
    "    os.makedirs(ws)\n",
    "name = 'Tutorial02wMT3DMS3'\n",
    "modelname = 'Tutorial02wMT3DMS3'\n",
    "exe_name_mf = os.path.abspath('D:/Chelsea/Projects/DelawareStream/Script/Executables/mf2005')\n",
    "exe_name_mt = os.path.abspath('D:/Chelsea/Projects/DelawareStream/Script/Executables/mt3dms')"
   ]
  },
  {
   "cell_type": "code",
   "execution_count": null,
   "metadata": {},
   "outputs": [],
   "source": [
    "#def p10(dirname, mixelm, perlen=1000, isothm=1, sp2=0., ttsmult=1.2):\n",
    "perlen=1000\n",
    "isothm=1\n",
    "sp2=0.\n",
    "ttsmult=1.2\n",
    "mixelm = -1\n",
    "model_ws = ws #os.path.join(workdir, dirname)\n",
    "nlay = 4\n",
    "nrow = 61\n",
    "ncol = 40\n",
    "delr = [2000, 1600, 800, 400, 200, 100] + 28*[50] + [100, 200, 400, 800, 1600, 2000]\n",
    "delc = [2000, 2000, 2000, 1600, 800, 400, 200, 100] + 45 * [50] + [100, 200, 400, 800, 1600, 2000, 2000, 2000]\n",
    "delv = 25.\n",
    "top = 780.\n",
    "botm = [top - delv * k for k in range(1, nlay + 1)]\n",
    "prsity = 0.3\n",
    "al = 10.\n",
    "trpt = 0.2\n",
    "trpv = 0.2\n",
    "\n",
    "perlen_mf = perlen\n",
    "perlen_mt = perlen\n",
    "hk = [60., 60., 520., 520.]\n",
    "vka = .1\n",
    "laytyp = 0\n",
    "\n",
    "modelname_mf = wspath + modelname + '_mf'#dirname + '_mf'\n",
    "mf = flopy.modflow.Modflow(modelname=modelname_mf, model_ws=model_ws, \n",
    "                           exe_name=exe_name_mf)\n",
    "dis = flopy.modflow.ModflowDis(mf, nlay=nlay, nrow=nrow, ncol=ncol,\n",
    "                               delr=delr, delc=delc, top=top, \n",
    "                               botm=botm,\n",
    "                               perlen=perlen_mf)\n",
    "ibound = np.ones((nlay, nrow, ncol), dtype=np.int)\n",
    "ibound[:, :, 0] = -1\n",
    "ibound[:, :, -1] = -1\n",
    "\n",
    "#f = open(os.path.join(datadir, 'p10shead.dat'))\n",
    "#s0 = np.empty((nrow * ncol), dtype=np.float)\n",
    "#s0 = read1d(f, s0).reshape((nrow, ncol))\n",
    "#f.close()\n",
    "strt = np.zeros((nlay, nrow, ncol), dtype=np.float)\n",
    "#for k in range(nlay):\n",
    "   # strt[k] = s0\n",
    "bas = flopy.modflow.ModflowBas(mf, ibound=ibound, strt=strt)\n",
    "lpf = flopy.modflow.ModflowLpf(mf, hk=hk, layvka=1, vka=vka, laytyp=laytyp)\n",
    "welspd = [[3 - 1, 11 - 1, 29 - 1, -19230.00],\n",
    "          [3 - 1, 19 - 1, 26 - 1, -19230.00],\n",
    "          [3 - 1, 26 - 1, 23 - 1, -19230.00],\n",
    "          [3 - 1, 33 - 1, 20 - 1, -19230.00],\n",
    "          [3 - 1, 40 - 1, 17 - 1, -19230.00],\n",
    "          [3 - 1, 48 - 1, 14 - 1, -19230.00],\n",
    "          [3 - 1, 48 - 1,  9 - 1, -15384.00],\n",
    "          [3 - 1, 52 - 1, 17 - 1, -17307.00]]\n",
    "wel = flopy.modflow.ModflowWel(mf, stress_period_data=welspd)\n",
    "rch = flopy.modflow.ModflowRch(mf, rech=1.14e-3)\n",
    "pcg = flopy.modflow.ModflowPcg(mf)\n",
    "lmt = flopy.modflow.ModflowLmt(mf)\n",
    "mf.write_input()\n",
    "fname = os.path.join(model_ws, 'MT3D001.UCN')\n",
    "if os.path.isfile(fname):\n",
    "    os.remove(fname)\n",
    "mf.run_model(silent=False)"
   ]
  },
  {
   "cell_type": "code",
   "execution_count": 15,
   "metadata": {},
   "outputs": [
    {
     "name": "stdout",
     "output_type": "stream",
     "text": [
      "FloPy is using the following  executable to run the model: D:\\Chelsea\\Projects\\DelawareStream\\Script\\Executables\\mf2005.exe\n",
      "\n",
      "                                  MODFLOW-2005     \n",
      "    U.S. GEOLOGICAL SURVEY MODULAR FINITE-DIFFERENCE GROUND-WATER FLOW MODEL\n",
      "                             Version 1.12.00 2/3/2017                        \n",
      "\n",
      " Using NAME file: D:/Chelsea/Projects/DelawareStream/FloPy/Tutorial02wMT3DMS3/Tutorial02wMT3DMS3_mf.nam \n",
      " Run start date and time (yyyy/mm/dd hh:mm:ss): 2019/07/17 17:30:10\n",
      "\n",
      " Solving:  Stress period:     1    Time step:     1    Ground-Water Flow Eqn.\n",
      " Run end date and time (yyyy/mm/dd hh:mm:ss): 2019/07/17 17:30:10\n",
      " Elapsed run time:  0.078 Seconds\n",
      "\n",
      "  Normal termination of simulation\n"
     ]
    },
    {
     "data": {
      "text/plain": [
       "(True, [])"
      ]
     },
     "execution_count": 15,
     "metadata": {},
     "output_type": "execute_result"
    }
   ],
   "source": [
    "#def p10(dirname, mixelm, perlen=1000, isothm=1, sp2=0., ttsmult=1.2):\n",
    "perlen=1000\n",
    "isothm=1\n",
    "sp2=0.\n",
    "ttsmult=1.2\n",
    "mixelm = -1\n",
    "model_ws = ws #os.path.join(workdir, dirname)\n",
    "nlay = 4\n",
    "nrow = 61\n",
    "ncol = 40\n",
    "delr = [2000, 1600, 800, 400, 200, 100] + 28*[50] + [100, 200, 400, 800, 1600, 2000]\n",
    "delc = [2000, 2000, 2000, 1600, 800, 400, 200, 100] + 45 * [50] + [100, 200, 400, 800, 1600, 2000, 2000, 2000]\n",
    "delv = 25.\n",
    "top = 780.\n",
    "botm = [top - delv * k for k in range(1, nlay + 1)]\n",
    "prsity = 0.3\n",
    "al = 10.\n",
    "trpt = 0.2\n",
    "trpv = 0.2\n",
    "\n",
    "perlen_mf = perlen\n",
    "perlen_mt = perlen\n",
    "hk = [60., 60., 520., 520.]\n",
    "vka = .1\n",
    "laytyp = 0\n",
    "\n",
    "modelname_mf = wspath + modelname + '_mf'#dirname + '_mf'\n",
    "mf = flopy.modflow.Modflow(modelname=modelname_mf, model_ws=model_ws, \n",
    "                           exe_name=exe_name_mf)\n",
    "dis = flopy.modflow.ModflowDis(mf, nlay=nlay, nrow=nrow, ncol=ncol,\n",
    "                               delr=delr, delc=delc, top=top, \n",
    "                               botm=botm,\n",
    "                               perlen=perlen_mf)\n",
    "ibound = np.ones((nlay, nrow, ncol), dtype=np.int)\n",
    "ibound[:, :, 0] = -1\n",
    "ibound[:, :, -1] = -1\n",
    "\n",
    "#f = open(os.path.join(datadir, 'p10shead.dat'))\n",
    "#s0 = np.empty((nrow * ncol), dtype=np.float)\n",
    "#s0 = read1d(f, s0).reshape((nrow, ncol))\n",
    "#f.close()\n",
    "strt = np.zeros((nlay, nrow, ncol), dtype=np.float)\n",
    "#for k in range(nlay):\n",
    "   # strt[k] = s0\n",
    "bas = flopy.modflow.ModflowBas(mf, ibound=ibound, strt=strt)\n",
    "lpf = flopy.modflow.ModflowLpf(mf, hk=hk, layvka=1, vka=vka, laytyp=laytyp)\n",
    "welspd = [[3 - 1, 11 - 1, 29 - 1, -19230.00],\n",
    "          [3 - 1, 19 - 1, 26 - 1, -19230.00],\n",
    "          [3 - 1, 26 - 1, 23 - 1, -19230.00],\n",
    "          [3 - 1, 33 - 1, 20 - 1, -19230.00],\n",
    "          [3 - 1, 40 - 1, 17 - 1, -19230.00],\n",
    "          [3 - 1, 48 - 1, 14 - 1, -19230.00],\n",
    "          [3 - 1, 48 - 1,  9 - 1, -15384.00],\n",
    "          [3 - 1, 52 - 1, 17 - 1, -17307.00]]\n",
    "wel = flopy.modflow.ModflowWel(mf, stress_period_data=welspd)\n",
    "rch = flopy.modflow.ModflowRch(mf, rech=1.14e-3)\n",
    "pcg = flopy.modflow.ModflowPcg(mf)\n",
    "lmt = flopy.modflow.ModflowLmt(mf)\n",
    "mf.write_input()\n",
    "fname = os.path.join(model_ws, 'MT3D001.UCN')\n",
    "if os.path.isfile(fname):\n",
    "    os.remove(fname)\n",
    "mf.run_model(silent=False)"
   ]
  },
  {
   "cell_type": "code",
   "execution_count": 16,
   "metadata": {},
   "outputs": [
    {
     "name": "stdout",
     "output_type": "stream",
     "text": [
      "FloPy is using the following  executable to run the model: D:\\Chelsea\\Projects\\DelawareStream\\Script\\Executables\\mt3dms.exe\n",
      " MT3DMS - Modular 3-D Multi-Species Transport Model [Version 5.30]\n",
      " Developed at University of Alabama for U.S. Department of Defense\n",
      "\n",
      " STOP. Specified Name file does not exist:  or .na\n"
     ]
    },
    {
     "data": {
      "text/plain": [
       "(False, [])"
      ]
     },
     "execution_count": 16,
     "metadata": {},
     "output_type": "execute_result"
    }
   ],
   "source": [
    "modelname_mt = wspath + modelname + '_mt'#dirname + '_mt'\n",
    "mt = flopy.mt3d.Mt3dms(modelname=modelname_mt, model_ws=model_ws, \n",
    "                       exe_name=exe_name_mt, modflowmodel=mf)\n",
    "#f = open(os.path.join(datadir, 'p10cinit.dat'))\n",
    "c0 = 0. #np.zeros((nrow * ncol), dtype=np.float)\n",
    "#c0 = read1d(f, c0).reshape((nrow, ncol))\n",
    "#f.close()\n",
    "sconc = np.zeros((nlay, nrow, ncol), dtype=np.float)\n",
    "sconc[1] = 0.2 * c0\n",
    "sconc[2] = c0\n",
    "obs = [[3 - 1, 11 - 1, 29 - 1],\n",
    "       [3 - 1, 19 - 1, 26 - 1],\n",
    "       [3 - 1, 26 - 1, 23 - 1],\n",
    "       [3 - 1, 33 - 1, 20 - 1],\n",
    "       [3 - 1, 40 - 1, 17 - 1],\n",
    "       [3 - 1, 48 - 1, 14 - 1],\n",
    "       [3 - 1, 48 - 1,  9 - 1],\n",
    "       [3 - 1, 52 - 1, 17 - 1]]    \n",
    "btn = flopy.mt3d.Mt3dBtn(mt, icbund=1, prsity=prsity, sconc=sconc,\n",
    "                         timprs=[500, 750, 1000], dt0=2.25, ttsmult=ttsmult, \n",
    "                         obs=obs)\n",
    "dceps = 1.e-5\n",
    "nplane = 0\n",
    "npl = 0\n",
    "nph = 16\n",
    "npmin = 2\n",
    "npmax = 32\n",
    "dchmoc = 0.01\n",
    "nlsink = nplane\n",
    "npsink = nph\n",
    "adv = flopy.mt3d.Mt3dAdv(mt, mixelm=mixelm, dceps=dceps, nplane=nplane, \n",
    "                         npl=npl, nph=nph, npmin=npmin, npmax=npmax,\n",
    "                         nlsink=nlsink, npsink=npsink, percel=1.0)\n",
    "dsp = flopy.mt3d.Mt3dDsp(mt, al=al, trpt=trpt, trpv=trpv)\n",
    "ssm = flopy.mt3d.Mt3dSsm(mt, crch=0.)\n",
    "rct = flopy.mt3d.Mt3dRct(mt, isothm=isothm, igetsc=0, rhob=1.7, \n",
    "                         sp1=0.176, sp2=sp2)\n",
    "mxiter = 1\n",
    "if isothm == 4:\n",
    "    mxiter = 50\n",
    "gcg = flopy.mt3d.Mt3dGcg(mt, mxiter=mxiter, iter1=500)\n",
    "mt.write_input()\n",
    "fname = os.path.join(model_ws, 'MT3D001.UCN')\n",
    "if os.path.isfile(fname):\n",
    "    os.remove(fname)\n",
    "mt.run_model(silent=False)"
   ]
  },
  {
   "cell_type": "code",
   "execution_count": null,
   "metadata": {},
   "outputs": [],
   "source": [
    "fname = os.path.join(model_ws, 'MT3D001.UCN')\n",
    "ucnobj = flopy.utils.UcnFile(fname)\n",
    "times = ucnobj.get_times()\n",
    "conc = ucnobj.get_alldata()\n",
    "\n",
    "fname = os.path.join(model_ws, 'MT3D001.OBS')\n",
    "if os.path.isfile(fname):\n",
    "    cvt = mt.load_obs(fname)\n",
    "else:\n",
    "    cvt = None\n",
    "\n",
    "fname = os.path.join(model_ws, 'MT3D001.MAS')\n",
    "mvt = mt.load_mas(fname)\n",
    "\n",
    "#  return mf, mt, conc, cvt, mvt"
   ]
  },
  {
   "cell_type": "code",
   "execution_count": 7,
   "metadata": {},
   "outputs": [
    {
     "ename": "NameError",
     "evalue": "name 'workdir' is not defined",
     "output_type": "error",
     "traceback": [
      "\u001b[1;31m---------------------------------------------------------------------------\u001b[0m",
      "\u001b[1;31mNameError\u001b[0m                                 Traceback (most recent call last)",
      "\u001b[1;32m<ipython-input-7-c74bd6fac18b>\u001b[0m in \u001b[0;36m<module>\u001b[1;34m\u001b[0m\n\u001b[1;32m----> 1\u001b[1;33m \u001b[0mmf\u001b[0m\u001b[1;33m,\u001b[0m \u001b[0mmt\u001b[0m\u001b[1;33m,\u001b[0m \u001b[0mconctvd\u001b[0m\u001b[1;33m,\u001b[0m \u001b[0mcvttvd\u001b[0m\u001b[1;33m,\u001b[0m \u001b[0mmvttvd\u001b[0m \u001b[1;33m=\u001b[0m \u001b[0mp10\u001b[0m\u001b[1;33m(\u001b[0m\u001b[1;34m'p10'\u001b[0m\u001b[1;33m,\u001b[0m \u001b[1;33m-\u001b[0m\u001b[1;36m1\u001b[0m\u001b[1;33m)\u001b[0m\u001b[1;33m\u001b[0m\u001b[1;33m\u001b[0m\u001b[0m\n\u001b[0m\u001b[0;32m      2\u001b[0m \u001b[0mmf\u001b[0m\u001b[1;33m,\u001b[0m \u001b[0mmt\u001b[0m\u001b[1;33m,\u001b[0m \u001b[0mconchmoc\u001b[0m\u001b[1;33m,\u001b[0m \u001b[0mcvthmoc\u001b[0m\u001b[1;33m,\u001b[0m \u001b[0mmvthmoc\u001b[0m \u001b[1;33m=\u001b[0m \u001b[0mp10\u001b[0m\u001b[1;33m(\u001b[0m\u001b[1;34m'p10'\u001b[0m\u001b[1;33m,\u001b[0m \u001b[1;36m3\u001b[0m\u001b[1;33m)\u001b[0m\u001b[1;33m\u001b[0m\u001b[1;33m\u001b[0m\u001b[0m\n\u001b[0;32m      3\u001b[0m \u001b[0mmf\u001b[0m\u001b[1;33m,\u001b[0m \u001b[0mmt\u001b[0m\u001b[1;33m,\u001b[0m \u001b[0mconcupfd\u001b[0m\u001b[1;33m,\u001b[0m \u001b[0mcvtupfd\u001b[0m\u001b[1;33m,\u001b[0m \u001b[0mmvtupfd\u001b[0m \u001b[1;33m=\u001b[0m \u001b[0mp10\u001b[0m\u001b[1;33m(\u001b[0m\u001b[1;34m'p10'\u001b[0m\u001b[1;33m,\u001b[0m \u001b[1;36m0\u001b[0m\u001b[1;33m,\u001b[0m \u001b[0mttsmult\u001b[0m\u001b[1;33m=\u001b[0m\u001b[1;36m1.0\u001b[0m\u001b[1;33m)\u001b[0m\u001b[1;33m\u001b[0m\u001b[1;33m\u001b[0m\u001b[0m\n\u001b[0;32m      4\u001b[0m \u001b[0msr\u001b[0m \u001b[1;33m=\u001b[0m \u001b[0mmf\u001b[0m\u001b[1;33m.\u001b[0m\u001b[0mdis\u001b[0m\u001b[1;33m.\u001b[0m\u001b[0msr\u001b[0m\u001b[1;33m\u001b[0m\u001b[1;33m\u001b[0m\u001b[0m\n",
      "\u001b[1;32m<ipython-input-6-d13d193e53c5>\u001b[0m in \u001b[0;36mp10\u001b[1;34m(dirname, mixelm, perlen, isothm, sp2, ttsmult)\u001b[0m\n\u001b[0;32m      1\u001b[0m \u001b[1;32mdef\u001b[0m \u001b[0mp10\u001b[0m\u001b[1;33m(\u001b[0m\u001b[0mdirname\u001b[0m\u001b[1;33m,\u001b[0m \u001b[0mmixelm\u001b[0m\u001b[1;33m,\u001b[0m \u001b[0mperlen\u001b[0m\u001b[1;33m=\u001b[0m\u001b[1;36m1000\u001b[0m\u001b[1;33m,\u001b[0m \u001b[0misothm\u001b[0m\u001b[1;33m=\u001b[0m\u001b[1;36m1\u001b[0m\u001b[1;33m,\u001b[0m \u001b[0msp2\u001b[0m\u001b[1;33m=\u001b[0m\u001b[1;36m0.\u001b[0m\u001b[1;33m,\u001b[0m \u001b[0mttsmult\u001b[0m\u001b[1;33m=\u001b[0m\u001b[1;36m1.2\u001b[0m\u001b[1;33m)\u001b[0m\u001b[1;33m:\u001b[0m\u001b[1;33m\u001b[0m\u001b[1;33m\u001b[0m\u001b[0m\n\u001b[1;32m----> 2\u001b[1;33m     \u001b[0mmodel_ws\u001b[0m \u001b[1;33m=\u001b[0m \u001b[0mos\u001b[0m\u001b[1;33m.\u001b[0m\u001b[0mpath\u001b[0m\u001b[1;33m.\u001b[0m\u001b[0mjoin\u001b[0m\u001b[1;33m(\u001b[0m\u001b[0mworkdir\u001b[0m\u001b[1;33m,\u001b[0m \u001b[0mdirname\u001b[0m\u001b[1;33m)\u001b[0m\u001b[1;33m\u001b[0m\u001b[1;33m\u001b[0m\u001b[0m\n\u001b[0m\u001b[0;32m      3\u001b[0m     \u001b[0mnlay\u001b[0m \u001b[1;33m=\u001b[0m \u001b[1;36m4\u001b[0m\u001b[1;33m\u001b[0m\u001b[1;33m\u001b[0m\u001b[0m\n\u001b[0;32m      4\u001b[0m     \u001b[0mnrow\u001b[0m \u001b[1;33m=\u001b[0m \u001b[1;36m61\u001b[0m\u001b[1;33m\u001b[0m\u001b[1;33m\u001b[0m\u001b[0m\n\u001b[0;32m      5\u001b[0m     \u001b[0mncol\u001b[0m \u001b[1;33m=\u001b[0m \u001b[1;36m40\u001b[0m\u001b[1;33m\u001b[0m\u001b[1;33m\u001b[0m\u001b[0m\n",
      "\u001b[1;31mNameError\u001b[0m: name 'workdir' is not defined"
     ]
    }
   ],
   "source": [
    "mf, mt, conctvd, cvttvd, mvttvd = p10('p10', -1)\n",
    "mf, mt, conchmoc, cvthmoc, mvthmoc = p10('p10', 3)\n",
    "mf, mt, concupfd, cvtupfd, mvtupfd = p10('p10', 0, ttsmult=1.0)\n",
    "sr = mf.dis.sr"
   ]
  },
  {
   "cell_type": "code",
   "execution_count": 5,
   "metadata": {},
   "outputs": [
    {
     "ename": "NameError",
     "evalue": "name 'mt' is not defined",
     "output_type": "error",
     "traceback": [
      "\u001b[1;31m---------------------------------------------------------------------------\u001b[0m",
      "\u001b[1;31mNameError\u001b[0m                                 Traceback (most recent call last)",
      "\u001b[1;32m<ipython-input-5-6e5a6bd0c575>\u001b[0m in \u001b[0;36m<module>\u001b[1;34m\u001b[0m\n\u001b[0;32m      1\u001b[0m \u001b[0mfig\u001b[0m \u001b[1;33m=\u001b[0m \u001b[0mplt\u001b[0m\u001b[1;33m.\u001b[0m\u001b[0mfigure\u001b[0m\u001b[1;33m(\u001b[0m\u001b[0mfigsize\u001b[0m\u001b[1;33m=\u001b[0m\u001b[1;33m(\u001b[0m\u001b[1;36m10\u001b[0m\u001b[1;33m,\u001b[0m \u001b[1;36m15\u001b[0m\u001b[1;33m)\u001b[0m\u001b[1;33m)\u001b[0m\u001b[1;33m\u001b[0m\u001b[1;33m\u001b[0m\u001b[0m\n\u001b[0;32m      2\u001b[0m \u001b[0max\u001b[0m \u001b[1;33m=\u001b[0m \u001b[0mfig\u001b[0m\u001b[1;33m.\u001b[0m\u001b[0madd_subplot\u001b[0m\u001b[1;33m(\u001b[0m\u001b[1;36m2\u001b[0m\u001b[1;33m,\u001b[0m \u001b[1;36m2\u001b[0m\u001b[1;33m,\u001b[0m \u001b[1;36m1\u001b[0m\u001b[1;33m,\u001b[0m \u001b[0maspect\u001b[0m\u001b[1;33m=\u001b[0m\u001b[1;34m'equal'\u001b[0m\u001b[1;33m)\u001b[0m\u001b[1;33m\u001b[0m\u001b[1;33m\u001b[0m\u001b[0m\n\u001b[1;32m----> 3\u001b[1;33m \u001b[0mcinit\u001b[0m \u001b[1;33m=\u001b[0m \u001b[0mmt\u001b[0m\u001b[1;33m.\u001b[0m\u001b[0mbtn\u001b[0m\u001b[1;33m.\u001b[0m\u001b[0msconc\u001b[0m\u001b[1;33m[\u001b[0m\u001b[1;36m0\u001b[0m\u001b[1;33m]\u001b[0m\u001b[1;33m.\u001b[0m\u001b[0marray\u001b[0m\u001b[1;33m[\u001b[0m\u001b[1;36m2\u001b[0m\u001b[1;33m]\u001b[0m\u001b[1;33m\u001b[0m\u001b[1;33m\u001b[0m\u001b[0m\n\u001b[0m\u001b[0;32m      4\u001b[0m \u001b[0mmm\u001b[0m \u001b[1;33m=\u001b[0m \u001b[0mflopy\u001b[0m\u001b[1;33m.\u001b[0m\u001b[0mplot\u001b[0m\u001b[1;33m.\u001b[0m\u001b[0mPlotMapView\u001b[0m\u001b[1;33m(\u001b[0m\u001b[0mmodel\u001b[0m\u001b[1;33m=\u001b[0m\u001b[0mmf\u001b[0m\u001b[1;33m)\u001b[0m\u001b[1;33m\u001b[0m\u001b[1;33m\u001b[0m\u001b[0m\n\u001b[0;32m      5\u001b[0m \u001b[0mmm\u001b[0m\u001b[1;33m.\u001b[0m\u001b[0mplot_grid\u001b[0m\u001b[1;33m(\u001b[0m\u001b[0mcolor\u001b[0m\u001b[1;33m=\u001b[0m\u001b[1;34m'.5'\u001b[0m\u001b[1;33m,\u001b[0m \u001b[0malpha\u001b[0m\u001b[1;33m=\u001b[0m\u001b[1;36m0.2\u001b[0m\u001b[1;33m)\u001b[0m\u001b[1;33m\u001b[0m\u001b[1;33m\u001b[0m\u001b[0m\n",
      "\u001b[1;31mNameError\u001b[0m: name 'mt' is not defined"
     ]
    },
    {
     "data": {
      "image/png": "[encoded data removed]",
      "text/plain": [
       "<Figure size 720x1080 with 1 Axes>"
      ]
     },
     "metadata": {
      "needs_background": "light"
     },
     "output_type": "display_data"
    }
   ],
   "source": [
    "fig = plt.figure(figsize=(10, 15))\n",
    "ax = fig.add_subplot(2, 2, 1, aspect='equal')\n",
    "cinit = mt.btn.sconc[0].array[2]\n",
    "mm = flopy.plot.PlotMapView(model=mf)\n",
    "mm.plot_grid(color='.5', alpha=0.2)\n",
    "cs = mm.contour_array(cinit, levels=np.arange(20, 200, 20))\n",
    "plt.xlim(5100, 5100 + 28 * 50)\n",
    "plt.ylim(9100, 9100 + 45 * 50)\n",
    "plt.xlabel('DISTANCE ALONG X-AXIS, IN METERS')\n",
    "plt.ylabel('DISTANCE ALONG Y-AXIS, IN METERS')\n",
    "plt.title('LAYER {} INITIAL CONCENTRATION'.format(3))\n",
    "for k, i, j, q in mf.wel.stress_period_data[0]:\n",
    "    plt.plot(sr.xcenter[j], sr.ycenter[i], 'ks')\n",
    "\n",
    "ax = fig.add_subplot(2, 2, 2, aspect='equal')\n",
    "c = conctvd[0, 2]\n",
    "chmoc = conchmoc[0, 2]\n",
    "mm = flopy.plot.PlotMapView(model=mf)\n",
    "mm.plot_grid(color='.5', alpha=0.2)\n",
    "cs = mm.contour_array(c, levels=np.arange(20, 200, 20))\n",
    "cs = mm.contour_array(chmoc, linestyles=':', levels=np.arange(20, 200, 20))\n",
    "plt.xlim(5100, 5100 + 28 * 50)\n",
    "plt.ylim(9100, 9100 + 45 * 50)\n",
    "plt.xlabel('DISTANCE ALONG X-AXIS, IN METERS')\n",
    "plt.ylabel('DISTANCE ALONG Y-AXIS, IN METERS')\n",
    "plt.title('LAYER {} TIME = 500 DAYS'.format(3))\n",
    "for k, i, j, q in mf.wel.stress_period_data[0]:\n",
    "    plt.plot(sr.xcenter[j], sr.ycenter[i], 'ks')\n",
    "\n",
    "ax = fig.add_subplot(2, 2, 3, aspect='equal')\n",
    "c = conctvd[1, 2]\n",
    "chmoc = conchmoc[1, 2]\n",
    "mm = flopy.plot.PlotMapView(model=mf)\n",
    "mm.plot_grid(color='.5', alpha=0.2)\n",
    "cs = mm.contour_array(c, levels=np.arange(20, 200, 20))\n",
    "cs = mm.contour_array(chmoc, linestyles=':', levels=np.arange(20, 200, 20))\n",
    "plt.xlim(5100, 5100 + 28 * 50)\n",
    "plt.ylim(9100, 9100 + 45 * 50)\n",
    "plt.xlabel('DISTANCE ALONG X-AXIS, IN METERS')\n",
    "plt.ylabel('DISTANCE ALONG Y-AXIS, IN METERS')\n",
    "plt.title('LAYER {} TIME = 750 DAYS'.format(3))\n",
    "for k, i, j, q in mf.wel.stress_period_data[0]:\n",
    "    plt.plot(sr.xcenter[j], sr.ycenter[i], 'ks')\n",
    "\n",
    "ax = fig.add_subplot(2, 2, 4, aspect='equal')\n",
    "c = conctvd[1, 3]\n",
    "chmoc = conchmoc[1, 3]\n",
    "mm = flopy.plot.PlotMapView(model=mf)\n",
    "mm.plot_grid(color='.5', alpha=0.2)\n",
    "cs = mm.contour_array(c, levels=np.arange(20, 200, 20))\n",
    "cs = mm.contour_array(chmoc, linestyles=':', levels=np.arange(20, 200, 20))\n",
    "plt.xlim(5100, 5100 + 28 * 50)\n",
    "plt.ylim(9100, 9100 + 45 * 50)\n",
    "plt.xlabel('DISTANCE ALONG X-AXIS, IN METERS')\n",
    "plt.ylabel('DISTANCE ALONG Y-AXIS, IN METERS')\n",
    "plt.title('LAYER {} TIME = 1000 DAYS'.format(3))\n",
    "for k, i, j, q in mf.wel.stress_period_data[0]:\n",
    "    plt.plot(sr.xcenter[j], sr.ycenter[i], 'ks')\n",
    "\n",
    "plt.tight_layout()"
   ]
  },
  {
   "cell_type": "code",
   "execution_count": null,
   "metadata": {},
   "outputs": [],
   "source": [
    "fig = plt.figure(figsize=(10, 8))\n",
    "ax = fig.add_subplot(1, 1, 1)\n",
    "w4 = '(3, 33, 20)'\n",
    "ax.plot(cvthmoc['time'], cvthmoc[w4], 'bd', label='HMOC')\n",
    "ax.plot(cvtupfd['time'], cvtupfd[w4], 'r+', label='Upstream FD')\n",
    "ax.plot(cvttvd['time'], cvttvd[w4], 'gx', label='ULTIMATE')\n",
    "plt.xlim(0, 1000)\n",
    "plt.ylim(0, 120)\n",
    "plt.legend()\n",
    "plt.xlabel('TIME, IN DAYS')\n",
    "plt.ylabel('CONCENTRATION, IN PPB')"
   ]
  },
  {
   "cell_type": "code",
   "execution_count": null,
   "metadata": {},
   "outputs": [],
   "source": [
    "mf, mt, conctvd, cvttvd, mvt0 = p10('p10', 0, perlen=2000, isothm=0)\n",
    "mf, mt, conctvd, cvttvd, mvt1 = p10('p10', 0, perlen=2000, isothm=1)\n",
    "mf, mt, conctvd, cvttvd, mvt2 = p10('p10', 0, perlen=2000, isothm=4, sp2=0.1)\n",
    "mf, mt, conctvd, cvttvd, mvt3 = p10('p10', 0, perlen=2000, isothm=4, sp2=1.5e-4)\n",
    "mf, mt, conctvd, cvttvd, mvt4 = p10('p10', 0, perlen=2000, isothm=4, sp2=1.e-6)"
   ]
  },
  {
   "cell_type": "code",
   "execution_count": null,
   "metadata": {},
   "outputs": [],
   "source": [
    "fig = plt.figure(figsize=(10, 8))\n",
    "ax = fig.add_subplot(1, 1, 1)\n",
    "ax.plot(mvt0['time'], -mvt0['sinks'], 'k--', label='No Sorption')\n",
    "ax.plot(mvt1['time'], -mvt1['sinks'], 'k-', label='Equilibrium Sorption')\n",
    "ax.plot(mvt2['time'], -mvt2['sinks'], 'k^', fillstyle='none', \n",
    "        label='Nonequilibrium (rate=0.1 /day)')\n",
    "ax.plot(mvt3['time'], -mvt3['sinks'], 'ks', fillstyle='none', \n",
    "        label='Nonequilibrium (rate=1.5e-4 /day)')\n",
    "ax.plot(mvt4['time'], -mvt4['sinks'], 'ko', fillstyle='none', \n",
    "        label='Nonequilibrium (rate=1e-6 /day)')\n",
    "plt.xlim(0, 2000)\n",
    "plt.ylim(0, 5e9)\n",
    "plt.legend(loc=2)\n",
    "plt.xlabel('TIME, IN DAYS')\n",
    "plt.ylabel('TOTAL MASS REMOVED')"
   ]
  },
  {
   "cell_type": "code",
   "execution_count": null,
   "metadata": {},
   "outputs": [],
   "source": []
  }
 ],
 "metadata": {
  "kernelspec": {
   "display_name": "Python 3",
   "language": "python",
   "name": "python3"
  },
  "language_info": {
   "codemirror_mode": {
    "name": "ipython",
    "version": 3
   },
   "file_extension": ".py",
   "mimetype": "text/x-python",
   "name": "python",
   "nbconvert_exporter": "python",
   "pygments_lexer": "ipython3",
   "version": "3.7.3"
  }
 },
 "nbformat": 4,
 "nbformat_minor": 2
}
