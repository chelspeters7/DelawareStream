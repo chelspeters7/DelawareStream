{
 "cells": [
  {
   "cell_type": "code",
   "execution_count": 65,
   "metadata": {},
   "outputs": [],
   "source": [
    "# Imports\n",
    "import os\n",
    "import numpy as np\n",
    "import matplotlib.pyplot as plt\n",
    "import flopy\n",
    "import flopy.utils.binaryfile as bf\n",
    "%matplotlib inline"
   ]
  },
  {
   "cell_type": "code",
   "execution_count": 66,
   "metadata": {},
   "outputs": [],
   "source": [
    "#Set working directory and names\n",
    "name = 'BoxModel'\n",
    "ws = 'D:/Chelsea/Projects/DelawareStream/FloPy/' + name\n",
    "if not os.path.exists(ws): #make sure workspace directory exists\n",
    "    os.makedirs(ws)\n",
    "exe_name_mf = os.path.abspath('D:/Chelsea/Projects/DelawareStream/Script/Executables/mf2005')\n",
    "exe_name_mt = os.path.abspath('D:/Chelsea/Projects/DelawareStream/Script/Executables/mt3dms')"
   ]
  },
  {
   "cell_type": "code",
   "execution_count": 67,
   "metadata": {},
   "outputs": [],
   "source": [
    "# All inputs\n",
    "len_units = 'meters'\n",
    "time_units = 'days'\n",
    "\n",
    "# Grid\n",
    "Lx = 1000. #total width across rows of entire model\n",
    "Ly = 1000. #total width across columns\n",
    "ztop = 10. #top elevation of layer 1\n",
    "zbot = -100. #bottom elevation\n",
    "nlay = 5 #number of layers\n",
    "nrow = 10 #number of rows\n",
    "ncol = 10 #number of columns\n",
    "delr = Lx / ncol #the cell width along rows\n",
    "delc = Ly / nrow #the cell width along columns\n",
    "delv = (ztop - zbot) / nlay #elevation change from top to bottom of model\n",
    "botm = np.linspace(ztop, zbot, nlay + 1) # bottom elevation of each layer including top elevation \n",
    "\n",
    "# Flow\n",
    "hk = 1. #hydraulic conductivity along rows\n",
    "vka = 1. #vertical hydraulic conductivity\n",
    "sy = 0.1 #specific yield\n",
    "ss = 1.e-4 #specific storage\n",
    "laytyp = np.zeros(nlay, dtype=np.int) #[1,0,0,0,0]\n",
    "laytyp[0] =1  #layer type, 0 - confined, >0 - convertible, <0 - convertiable unless THICKSTRT\n",
    "\n",
    "# Boundaries\n",
    "ibound = np.ones((nlay, nrow, ncol), dtype=np.int32) #boundary variable... one value for every cell... if >0 cell is active, if =0 cell is inactive, if <0 cell has constant head. \n",
    "strt = 10. * np.ones((nlay, nrow, ncol), dtype=np.float32) #initial starting head... one value for every cell\n",
    "\n",
    "# Time \n",
    "nper = 3 #number of stress periods\n",
    "perlen_num = 100 #[1, 100, 100] \n",
    "perlen = np.ones(nper, dtype=np.int) * perlen_num #length of stress period\n",
    "perlen[0] = 1 #number of time steps in each stress period\n",
    "nstp = perlen\n",
    "steady = [False] * nper\n",
    "steady[0] = True #transient or steady state\n",
    "endtime = np.cumsum(perlen)\n",
    "\n",
    "# Wells\n",
    "pumping_rate = 60. #length3/time\n",
    "screen_layer = 1\n",
    "wellx = nrow/2 #- 1\n",
    "welly = ncol/2 #- 1\n",
    "wel_sp1 = [[screen_layer, wellx, welly, 0.]] #layer, row, col, volumetric recharge rate (+ is recharge, and - is pumping)\n",
    "wel_sp2 = [[screen_layer, wellx, welly, 100.]]\n",
    "wel_sp3 = [[screen_layer, wellx, welly, pumping_rate]]\n",
    "#wel_sp4 = [[screen_layer, wellx, welly, 50.]]\n",
    "#wel_sp5 = [[screen_layer, wellx, welly, -pumping_rate]]\n",
    "stress_period_data1 = {0: wel_sp1, 1: wel_sp2, 2: wel_sp3}#, 3: wel_sp4, 4: wel_sp5}\n",
    "\n",
    "###########################################################################################################\n",
    "# Transport\n",
    "v = 1. / 3. #groundwater seepage velocity, L/T\n",
    "prsity = 0.3 #porosity\n",
    "q = v * prsity #flux\n",
    "al = 10. #longitudinal dispersivity, L\n",
    "trpt = .3 #ratio of transverse to longitudinal dispersivity\n",
    "q0 = 1. #volumetric injection rate, L3/T\n",
    "c0 = 10000. #concentration of injected water, ppm\n",
    "sconc = 0 #starting concentration\n",
    "\n",
    "# Observation points\n",
    "obs = [[1 - 1, 5 - 1, 5 - 1],[1 - 1, 8 - 1, 5 - 1],[1 - 1, 3 - 1, 5 - 1]] #create observation points\n",
    "\n",
    "# Advection\n",
    "mixelm = 1 # integer flag for the advection solution option\n",
    "dceps = 1.e-5 #small relative cell concentration gradient below which advection transport is considered\n",
    "nplane = 1 #flag indicating whether random or fixed pattern is selected for initial placement (0 = random, 1 = 2D, 2 = 3D)\n",
    "npl = 0 #num of initial particles per cell to placed at cells where <= decps\n",
    "nph = 16 #num of initial particles per cell to placed at cells where >= decps\n",
    "npmin = 2 #min num of particles allowed per cell\n",
    "npmax = 32 #max num of particles allowed per cell\n",
    "dchmoc=1.e-3 #critical Relative Concentration Gradient for controlling use of either MOC or MMOC in the HMOC solution scheme.\n",
    "nlsink = nplane #flag indicating whether the random or fixed pattern is selected for initial placement of particles to approximate sink cells\n",
    "npsink = nph #number of particles used to approximate sink cells in the MMOC scheme. \n",
    "\n",
    "# Stress period\n",
    "spd = {0:[0, 4, 4, sconc, 2], 1:[0, 4, 4, c0, 2], 2:[0, 4, 4, c0, 2]}#,\n",
    "     # 3:[0, 4, 4, c0, 2], 4:[0, 4, 4, c0, 2]} #stress period, where last value is the type of cell 2 = well"
   ]
  },
  {
   "cell_type": "code",
   "execution_count": 68,
   "metadata": {},
   "outputs": [],
   "source": [
    "# Stress period\n",
    "\n",
    "# Make list for stress period 1\n",
    "stageleft = 10.\n",
    "stageright = 0.\n",
    "bound_sp1 = []\n",
    "for il in range(nlay):\n",
    "    condleft = hk * (stageleft - zbot) * delc #hydraulic conductivity * area of left face \n",
    "    condright = hk * (stageright - zbot) * delc\n",
    "    for ir in range(nrow):\n",
    "        bound_sp1.append([il, ir, 0, stageleft, condleft]) #layer, row, column, head on boundary, and conductance\n",
    "        bound_sp1.append([il, ir, ncol - 1, stageright, condright])\n",
    "\n",
    "# Make list for stress period 2\n",
    "# In the stress period 2, the head drops to 0 and becomes less conductive at the right boundary.\n",
    "stageleft = 10.\n",
    "stageright = 0.\n",
    "condleft = hk * (stageleft - zbot) * delc #hydraulic conductivity * area of left face \n",
    "condright = hk * (stageright - zbot) * delc\n",
    "bound_sp2 = []\n",
    "for il in range(nlay):\n",
    "    for ir in range(nrow):\n",
    "        bound_sp2.append([il, ir, 0, stageleft, condleft])\n",
    "        bound_sp2.append([il, ir, ncol - 1, stageright, condright])\n",
    "\n",
    "stress_period_data = {0: bound_sp1, 1: bound_sp2}"
   ]
  },
  {
   "cell_type": "code",
   "execution_count": 69,
   "metadata": {},
   "outputs": [],
   "source": [
    "# Model Files\n",
    "mf = flopy.modflow.Modflow(modelname=name, model_ws=ws, exe_name=exe_name_mf)\n",
    "dis = flopy.modflow.ModflowDis(mf, nlay, nrow, ncol, delr=delr, delc=delc, top=ztop, botm=botm[1:], \n",
    "                               nper=nper, perlen=perlen, nstp=nstp, steady=steady)\n",
    "bas = flopy.modflow.ModflowBas(mf, ibound=ibound, strt=strt)\n",
    "lpf = flopy.modflow.ModflowLpf(mf, hk=hk, vka=vka, sy=sy, ss=ss, laytyp=laytyp, ipakcb=53) \n",
    "pcg = flopy.modflow.ModflowPcg(mf) \n",
    "ghb = flopy.modflow.ModflowGhb(mf, stress_period_data=stress_period_data)\n",
    "wel = flopy.modflow.ModflowWel(mf, stress_period_data=stress_period_data1)\n",
    "\n",
    "# Output control\n",
    "stress_period_data = {}\n",
    "for kper in range(nper): #for each stress period\n",
    "    for kstp in range(nstp[kper]): #for each time period\n",
    "        stress_period_data[(kper, kstp)] = ['save head',\n",
    "                                            'save drawdown',\n",
    "                                            'save budget',\n",
    "                                            'print head',\n",
    "                                            'print budget']\n",
    "oc = flopy.modflow.ModflowOc(mf, stress_period_data=stress_period_data, compact=True)\n",
    "\n",
    "lmt = flopy.modflow.ModflowLmt(mf)\n",
    "\n",
    "mf.write_input()\n",
    "success, mfoutput = mf.run_model(silent=True, pause=False)\n",
    "if not success:\n",
    "    raise Exception('MODFLOW did not terminate normally.')"
   ]
  },
  {
   "cell_type": "code",
   "execution_count": 70,
   "metadata": {},
   "outputs": [
    {
     "data": {
      "image/png": "[encoded data removed]",
      "text/plain": [
       "<Figure size 432x288 with 1 Axes>"
      ]
     },
     "metadata": {
      "needs_background": "light"
     },
     "output_type": "display_data"
    }
   ],
   "source": [
    "# Plotting\n",
    "mm = flopy.plot.PlotMapView(model=mf)\n",
    "plota = mm.plot_grid()"
   ]
  },
  {
   "cell_type": "code",
   "execution_count": 75,
   "metadata": {},
   "outputs": [
    {
     "data": {
      "image/png": "[encoded data removed]",
      "text/plain": [
       "<Figure size 432x288 with 1 Axes>"
      ]
     },
     "metadata": {
      "needs_background": "light"
     },
     "output_type": "display_data"
    }
   ],
   "source": [
    "# Plotting\n",
    "mm2 = flopy.plot.PlotCrossSection(model=mf, line={'row': 2})\n",
    "plotb = mm2.plot_grid()"
   ]
  },
  {
   "cell_type": "code",
   "execution_count": 77,
   "metadata": {},
   "outputs": [
    {
     "ename": "PermissionError",
     "evalue": "[WinError 32] The process cannot access the file because it is being used by another process: 'D:/Chelsea/Projects/DelawareStream/FloPy/BoxModel/MT3D001.UCN'",
     "output_type": "error",
     "traceback": [
      "\u001b[1;31m---------------------------------------------------------------------------\u001b[0m",
      "\u001b[1;31mPermissionError\u001b[0m                           Traceback (most recent call last)",
      "\u001b[1;32m<ipython-input-77-a561b5c4765e>\u001b[0m in \u001b[0;36m<module>\u001b[1;34m\u001b[0m\n\u001b[0;32m     16\u001b[0m \u001b[0mfname\u001b[0m \u001b[1;33m=\u001b[0m \u001b[0mos\u001b[0m\u001b[1;33m.\u001b[0m\u001b[0mpath\u001b[0m\u001b[1;33m.\u001b[0m\u001b[0mjoin\u001b[0m\u001b[1;33m(\u001b[0m\u001b[0mws\u001b[0m\u001b[1;33m+\u001b[0m\u001b[1;34m'/MT3D001.UCN'\u001b[0m\u001b[1;33m)\u001b[0m\u001b[1;33m\u001b[0m\u001b[1;33m\u001b[0m\u001b[0m\n\u001b[0;32m     17\u001b[0m \u001b[1;32mif\u001b[0m \u001b[0mos\u001b[0m\u001b[1;33m.\u001b[0m\u001b[0mpath\u001b[0m\u001b[1;33m.\u001b[0m\u001b[0misfile\u001b[0m\u001b[1;33m(\u001b[0m\u001b[0mfname\u001b[0m\u001b[1;33m)\u001b[0m\u001b[1;33m:\u001b[0m\u001b[1;33m\u001b[0m\u001b[1;33m\u001b[0m\u001b[0m\n\u001b[1;32m---> 18\u001b[1;33m     \u001b[0mos\u001b[0m\u001b[1;33m.\u001b[0m\u001b[0mremove\u001b[0m\u001b[1;33m(\u001b[0m\u001b[0mfname\u001b[0m\u001b[1;33m)\u001b[0m\u001b[1;33m\u001b[0m\u001b[1;33m\u001b[0m\u001b[0m\n\u001b[0m\u001b[0;32m     19\u001b[0m \u001b[0mmt\u001b[0m\u001b[1;33m.\u001b[0m\u001b[0mrun_model\u001b[0m\u001b[1;33m(\u001b[0m\u001b[0msilent\u001b[0m\u001b[1;33m=\u001b[0m\u001b[1;32mFalse\u001b[0m\u001b[1;33m,\u001b[0m \u001b[0mpause\u001b[0m\u001b[1;33m=\u001b[0m\u001b[1;32mFalse\u001b[0m\u001b[1;33m,\u001b[0m \u001b[0mnormal_msg\u001b[0m \u001b[1;33m=\u001b[0m \u001b[1;34m'normal termination'\u001b[0m\u001b[1;33m)\u001b[0m\u001b[1;33m\u001b[0m\u001b[1;33m\u001b[0m\u001b[0m\n",
      "\u001b[1;31mPermissionError\u001b[0m: [WinError 32] The process cannot access the file because it is being used by another process: 'D:/Chelsea/Projects/DelawareStream/FloPy/BoxModel/MT3D001.UCN'"
     ]
    }
   ],
   "source": [
    "# Add MT3DMS components\n",
    "mt = flopy.mt3d.Mt3dms(modelname=name, model_ws=ws, exe_name=exe_name_mt, modflowmodel=mf)\n",
    "btn = flopy.mt3d.Mt3dBtn(mt, icbund=1, prsity=prsity, sconc=sconc, obs=obs)\n",
    "adv = flopy.mt3d.Mt3dAdv(mt, mixelm=mixelm, dceps=dceps, nplane=nplane, \n",
    "                             npl=npl, nph=nph, npmin=npmin, npmax=npmax,\n",
    "                             nlsink=nlsink, npsink=npsink, percel=0.5)\n",
    "dsp = flopy.mt3d.Mt3dDsp(mt, al=al, trpt=trpt)\n",
    "\n",
    "# no user-specified concentrations associated with boundary conditions\n",
    "\n",
    "mxss = 1000 #the maximum number of all point sinks and sources included in the flow model\n",
    "ssm = flopy.mt3d.Mt3dSsm(mt, stress_period_data=spd, mxss=mxss)\n",
    "gcg = flopy.mt3d.Mt3dGcg(mt)\n",
    "mt.write_input()\n",
    "\n",
    "fname = os.path.join(ws+'/MT3D001.UCN')\n",
    "if os.path.isfile(fname):\n",
    "    os.remove(fname)\n",
    "mt.run_model(silent=False, pause=False, normal_msg = 'normal termination')"
   ]
  },
  {
   "cell_type": "code",
   "execution_count": null,
   "metadata": {},
   "outputs": [],
   "source": [
    "# Create the headfile and budget file objects\n",
    "headobj = bf.HeadFile(ws + '/' + name + '.hds')\n",
    "times = headobj.get_times()\n",
    "cbb = bf.CellBudgetFile(ws + '/' + name + '.cbc')\n",
    "\n",
    "fname = os.path.join(ws, 'MT3D001.UCN')\n",
    "ucnobj = flopy.utils.UcnFile(fname)\n",
    "timesconc = ucnobj.get_times()\n",
    "conc = ucnobj.get_alldata()\n",
    "\n",
    "fname = os.path.join(ws, 'MT3D001.OBS')\n",
    "if os.path.isfile(fname):\n",
    "    cvt = mt.load_obs(fname)\n",
    "else:\n",
    "    cvt = None\n",
    "\n",
    "fname = os.path.join(ws, 'MT3D001.MAS')\n",
    "mvt = mt.load_mas(fname)\n",
    "cvt"
   ]
  },
  {
   "cell_type": "code",
   "execution_count": null,
   "metadata": {},
   "outputs": [],
   "source": [
    "fig = plt.figure(figsize=(10, 8))\n",
    "ax = fig.add_subplot(1, 2, 1)\n",
    "#mf, mt, conc, cvt, mvt   = p06('p06', 1, 56.25)\n",
    "x = cvt['time']\n",
    "y = cvt['(1, 5, 5)']\n",
    "ax.plot(x, y, label='1, 5, 5', marker='^')\n",
    "\n",
    "#x = cvt['time']\n",
    "#y = cvt['(1, 8, 5)']\n",
    "#ax.plot(x, y, label='1, 8, 5', marker='s')\n",
    "\n",
    "#x = cvt['time']\n",
    "#y = cvt['(1, 3, 5)']\n",
    "#ax.plot(x, y, label='1, 3, 5', marker='x')\n",
    "\n",
    "#plt.xlim(0, 10)\n",
    "#plt.ylim(0, 100.0)\n",
    "plt.xlabel('TIME, IN YEARS')\n",
    "plt.ylabel('NORMALIZED CONCENTRATION, IN PERCENT')\n",
    "plt.legend()"
   ]
  },
  {
   "cell_type": "code",
   "execution_count": null,
   "metadata": {},
   "outputs": [],
   "source": [
    "# Plot the head versus time\n",
    "# This is the well spot, notice how pumping started ony in the last stress period\n",
    "idx = (0, int(nrow/2) - 1, int(ncol/2) - 1)\n",
    "ts = headobj.get_ts(idx)\n",
    "plt.subplot(1, 1, 1)\n",
    "ttl = 'Head at cell ({0},{1},{2})'.format(idx[0] + 1, idx[1] + 1, idx[2] + 1)\n",
    "plt.title(ttl)\n",
    "plt.xlabel('time')\n",
    "plt.ylabel('head')\n",
    "plt.plot(ts[:, 0], ts[:, 1], 'bo-')\n",
    "plt.savefig(ws+'/'+ name + '.png')"
   ]
  },
  {
   "cell_type": "code",
   "execution_count": 62,
   "metadata": {},
   "outputs": [
    {
     "data": {
      "text/plain": [
       "'D:/Chelsea/Projects/DelawareStream/FloPy/BoxModel/Figures/BoxModel.png'"
      ]
     },
     "execution_count": 62,
     "metadata": {},
     "output_type": "execute_result"
    }
   ],
   "source": [
    "ws+'/Figures/'+ name + '.png'"
   ]
  },
  {
   "cell_type": "code",
   "execution_count": null,
   "metadata": {},
   "outputs": [],
   "source": []
  },
  {
   "cell_type": "code",
   "execution_count": null,
   "metadata": {},
   "outputs": [],
   "source": []
  }
 ],
 "metadata": {
  "kernelspec": {
   "display_name": "Python 3",
   "language": "python",
   "name": "python3"
  },
  "language_info": {
   "codemirror_mode": {
    "name": "ipython",
    "version": 3
   },
   "file_extension": ".py",
   "mimetype": "text/x-python",
   "name": "python",
   "nbconvert_exporter": "python",
   "pygments_lexer": "ipython3",
   "version": "3.7.3"
  }
 },
 "nbformat": 4,
 "nbformat_minor": 2
}
