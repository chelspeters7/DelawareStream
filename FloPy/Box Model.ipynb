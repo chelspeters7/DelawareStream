{
 "cells": [
  {
   "cell_type": "code",
   "execution_count": 33,
   "metadata": {},
   "outputs": [],
   "source": [
    "# Imports\n",
    "import os\n",
    "import numpy as np\n",
    "import matplotlib.pyplot as plt\n",
    "import flopy\n",
    "import flopy.utils.binaryfile as bf\n",
    "%matplotlib inline"
   ]
  },
  {
   "cell_type": "code",
   "execution_count": 34,
   "metadata": {},
   "outputs": [],
   "source": [
    "#Set working directory and names\n",
    "name = 'BoxModel'\n",
    "ws = 'D:/Chelsea/Projects/DelawareStream/FloPy/' + name\n",
    "if not os.path.exists(ws): #make sure workspace directory exists\n",
    "    os.makedirs(ws)\n",
    "exe_name_mf = os.path.abspath('D:/Chelsea/Projects/DelawareStream/Script/Executables/mf2005')\n",
    "exe_name_mt = os.path.abspath('D:/Chelsea/Projects/DelawareStream/Script/Executables/mt3dms')"
   ]
  },
  {
   "cell_type": "code",
   "execution_count": 35,
   "metadata": {},
   "outputs": [
    {
     "data": {
      "text/plain": [
       "[[1, 5.0, 5.0, -500.0]]"
      ]
     },
     "execution_count": 35,
     "metadata": {},
     "output_type": "execute_result"
    }
   ],
   "source": [
    "# All inputs\n",
    "\n",
    "# Grid\n",
    "Lx = 1000. #total width across rows of entire model\n",
    "Ly = 1000. #total width across columns\n",
    "ztop = 10. #top elevation of layer 1\n",
    "zbot = -50. #bottom elevation\n",
    "nlay = 5 #number of layers\n",
    "nrow = 10 #number of rows\n",
    "ncol = 10 #number of columns\n",
    "delr = Lx / ncol #the cell width along rows\n",
    "delc = Ly / nrow #the cell width along columns\n",
    "delv = (ztop - zbot) / nlay #elevation change from top to bottom of model\n",
    "botm = np.linspace(ztop, zbot, nlay + 1) # bottom elevation of each layer including top elevation \n",
    "\n",
    "# Flow\n",
    "hk = 1. #hydraulic conductivity along rows\n",
    "vka = 1. #vertical hydraulic conductivity\n",
    "sy = 0.1 #specific yield\n",
    "ss = 1.e-4 #specific storage\n",
    "laytyp = np.zeros(nlay, dtype=np.int) #[1,0,0,0,0]\n",
    "laytyp[0] =1  #layer type, 0 - confined, >0 - convertible, <0 - convertialbe unless THICKSTRT\n",
    "\n",
    "# Boundaries\n",
    "ibound = np.ones((nlay, nrow, ncol), dtype=np.int32) #boundary variable... one value for every cell... if >0 cell is active, if =0 cell is inactive, if <0 cell has constant head. \n",
    "strt = 10. * np.ones((nlay, nrow, ncol), dtype=np.float32) #initial starting head... one value for every cell\n",
    "\n",
    "# Time \n",
    "nper = 5 #number of stress periods\n",
    "perlen_num = 100 #[1, 100, 100] \n",
    "perlen = np.ones(nper, dtype=np.int) * perlen_num #length of stress period\n",
    "perlen[0] = 1 #number of time steps in each stress period\n",
    "nstp = perlen\n",
    "steady = [False] * nper\n",
    "steady[0] = True #transient or steady state\n",
    "endtime = np.cumsum(perlen)\n",
    "\n",
    "# Wells\n",
    "pumping_rate = 1000. #length3/time\n",
    "screen = 1\n",
    "wellx = nrow/2 #- 1\n",
    "welly = ncol/2 #- 1\n",
    "wel_sp1 = [[screen, wellx, welly, 0.]] #layer, row, col, volumetric recharge rate (+ is recharge, and - is pumping)\n",
    "wel_sp2 = [[screen, wellx, welly, 500.]]\n",
    "wel_sp3 = [[screen, wellx, welly, pumping_rate]]\n",
    "wel_sp4 = [[screen, wellx, welly, 700.]]\n",
    "wel_sp5 = [[screen, wellx, welly, -500.]]\n",
    "stress_period_data1 = {0: wel_sp1, 1: wel_sp2, 2: wel_sp3, 3: wel_sp4, 4: wel_sp5}\n",
    "\n",
    "###########################################################################################################\n",
    "# Transport\n",
    "v = 1. / 3. #groundwater seepage velocity, L/T\n",
    "prsity = 0.3 #porosity\n",
    "q = v * prsity #flux\n",
    "al = 10. #longitudinal dispersivity, L\n",
    "trpt = .3 #ratio of transverse to longitudinal dispersivity\n",
    "q0 = 1. #volumetric injection rate, L3/T\n",
    "c0 = 1000. #concentration of injected water, ppm\n",
    "sconc = 0 #starting concentration\n",
    "\n",
    "# Observation points\n",
    "obs = [[1 - 1, 5 - 1, 5 - 1],[1 - 1, 8 - 1, 5 - 1],[1 - 1, 3 - 1, 5 - 1]] #create observation points\n",
    "\n",
    "# Advection\n",
    "mixelm = 1 # integer flag for the advection solution option\n",
    "dceps = 1.e-5 #small relative cell concentration gradient below which advection transport is considered\n",
    "nplane = 1 #flag indicating whether random or fixed pattern is selected for initial placement (0 = random, 1 = 2D, 2 = 3D)\n",
    "npl = 0 #num of initial particles per cell to placed at cells where <= decps\n",
    "nph = 16 #num of initial particles per cell to placed at cells where >= decps\n",
    "npmin = 2 #min num of particles allowed per cell\n",
    "npmax = 32 #max num of particles allowed per cell\n",
    "dchmoc=1.e-3 #critical Relative Concentration Gradient for controlling use of either MOC or MMOC in the HMOC solution scheme.\n",
    "nlsink = nplane #flag indicating whether the random or fixed pattern is selected for initial placement of particles to approximate sink cells\n",
    "npsink = nph #number of particles used to approximate sink cells in the MMOC scheme. \n",
    "\n",
    "# Stress period\n",
    "spd = {0:[0, 4, 4, sconc, 2], 1:[0, 4, 4, c0, 2], 2:[0, 4, 4, c0, 2],\n",
    "      3:[0, 4, 4, c0, 2], 4:[0, 4, 4, c0, 2]} #stress period, where last value is the type of cell 2 = well\n",
    "wel_sp5"
   ]
  },
  {
   "cell_type": "code",
   "execution_count": 36,
   "metadata": {},
   "outputs": [],
   "source": [
    "# Stress period\n",
    "\n",
    "# Make list for stress period 1\n",
    "stageleft = 10.\n",
    "stageright = 10.\n",
    "bound_sp1 = []\n",
    "for il in range(nlay):\n",
    "    condleft = hk * (stageleft - zbot) * delc #hydraulic conductivity * area of left face \n",
    "    condright = hk * (stageright - zbot) * delc\n",
    "    for ir in range(nrow):\n",
    "        bound_sp1.append([il, ir, 0, stageleft, condleft]) #layer, row, column, head on boundary, and conductance\n",
    "        bound_sp1.append([il, ir, ncol - 1, stageright, condright])\n",
    "\n",
    "# Make list for stress period 2\n",
    "# In the stress period 2, the head drops to 0 and becomes less conductive at the right boundary.\n",
    "stageleft = 10.\n",
    "stageright = 0.\n",
    "condleft = hk * (stageleft - zbot) * delc #hydraulic conductivity * area of left face \n",
    "condright = hk * (stageright - zbot) * delc\n",
    "bound_sp2 = []\n",
    "for il in range(nlay):\n",
    "    for ir in range(nrow):\n",
    "        bound_sp2.append([il, ir, 0, stageleft, condleft])\n",
    "        bound_sp2.append([il, ir, ncol - 1, stageright, condright])\n",
    "\n",
    "stress_period_data = {0: bound_sp1, 1: bound_sp2}"
   ]
  },
  {
   "cell_type": "code",
   "execution_count": 37,
   "metadata": {},
   "outputs": [],
   "source": [
    "# Model Files\n",
    "mf = flopy.modflow.Modflow(modelname=name, model_ws=ws, exe_name=exe_name_mf)\n",
    "dis = flopy.modflow.ModflowDis(mf, nlay, nrow, ncol, delr=delr, delc=delc, top=ztop, botm=botm[1:], \n",
    "                               nper=nper, perlen=perlen, nstp=nstp, steady=steady)\n",
    "bas = flopy.modflow.ModflowBas(mf, ibound=ibound, strt=strt)\n",
    "lpf = flopy.modflow.ModflowLpf(mf, hk=hk, vka=vka, sy=sy, ss=ss, laytyp=laytyp, ipakcb=53) \n",
    "pcg = flopy.modflow.ModflowPcg(mf) \n",
    "ghb = flopy.modflow.ModflowGhb(mf, stress_period_data=stress_period_data)\n",
    "wel = flopy.modflow.ModflowWel(mf, stress_period_data=stress_period_data1)\n",
    "\n",
    "# Output control\n",
    "stress_period_data = {}\n",
    "for kper in range(nper): #for each stress period\n",
    "    for kstp in range(nstp[kper]): #for each time period\n",
    "        stress_period_data[(kper, kstp)] = ['save head',\n",
    "                                            'save drawdown',\n",
    "                                            'save budget',\n",
    "                                            'print head',\n",
    "                                            'print budget']\n",
    "oc = flopy.modflow.ModflowOc(mf, stress_period_data=stress_period_data, compact=True)\n",
    "\n",
    "lmt = flopy.modflow.ModflowLmt(mf)\n",
    "\n",
    "mf.write_input()\n",
    "success, mfoutput = mf.run_model(silent=True, pause=False)\n",
    "if not success:\n",
    "    raise Exception('MODFLOW did not terminate normally.')"
   ]
  },
  {
   "cell_type": "code",
   "execution_count": 38,
   "metadata": {},
   "outputs": [
    {
     "data": {
      "image/png": "[encoded data removed]",
      "text/plain": [
       "<Figure size 432x288 with 1 Axes>"
      ]
     },
     "metadata": {
      "needs_background": "light"
     },
     "output_type": "display_data"
    }
   ],
   "source": [
    "# Plotting\n",
    "mm = flopy.plot.PlotMapView(model=mf)\n",
    "plota = mm.plot_grid()\n",
    "mm2 = flopy.plot.PlotCrossSection(model=mf, line={'row': 2})\n",
    "plotb = mm2.plot_grid()"
   ]
  },
  {
   "cell_type": "code",
   "execution_count": 39,
   "metadata": {},
   "outputs": [
    {
     "data": {
      "text/plain": [
       "(False,\n",
       " [' MT3DMS - Modular 3-D Multi-Species Transport Model [Version 5.30]',\n",
       "  ' Developed at University of Alabama for U.S. Department of Defense',\n",
       "  '',\n",
       "  ' Using NAME File: BoxModel.nam                                      ',\n",
       "  '',\n",
       "  ' STRESS PERIOD NO.    1',\n",
       "  '',\n",
       "  ' TIME STEP NO.    1',\n",
       "  ' FROM TIME =   0.0000     TO    1.0000    ',\n",
       "  '',\n",
       "  '',\n",
       "  ' ERROR: MAXIMUM NUMBER OF SINKS/SOURCES ALLOWED [MXSS] =   101',\n",
       "  ' INCREASE VALUE OF [MXSS] IN [SSM] PACKAGE INPUT FILE'])"
      ]
     },
     "execution_count": 39,
     "metadata": {},
     "output_type": "execute_result"
    }
   ],
   "source": [
    "# Add MT3DMS components\n",
    "mt = flopy.mt3d.Mt3dms(modelname=name, model_ws=ws, exe_name=exe_name_mt, modflowmodel=mf)\n",
    "btn = flopy.mt3d.Mt3dBtn(mt, icbund=1, prsity=prsity, sconc=sconc, obs=obs)\n",
    "adv = flopy.mt3d.Mt3dAdv(mt, mixelm=mixelm, dceps=dceps, nplane=nplane, \n",
    "                             npl=npl, nph=nph, npmin=npmin, npmax=npmax,\n",
    "                             nlsink=nlsink, npsink=npsink, percel=0.5)\n",
    "dsp = flopy.mt3d.Mt3dDsp(mt, al=al, trpt=trpt)\n",
    "ssm = flopy.mt3d.Mt3dSsm(mt, stress_period_data=spd)\n",
    "gcg = flopy.mt3d.Mt3dGcg(mt)\n",
    "mt.write_input()\n",
    "\n",
    "fname = os.path.join(ws+'/MT3D001.UCN')\n",
    "if os.path.isfile(fname):\n",
    "    os.remove(fname)\n",
    "mt.run_model(silent=True, pause=False, report=True, normal_msg = 'normal termination')"
   ]
  },
  {
   "cell_type": "code",
   "execution_count": 24,
   "metadata": {},
   "outputs": [
    {
     "data": {
      "text/plain": [
       "'D:/Chelsea/Projects/DelawareStream/FloPy/BoxModelMT3D001.UCN'"
      ]
     },
     "execution_count": 24,
     "metadata": {},
     "output_type": "execute_result"
    }
   ],
   "source": [
    "# Create the headfile and budget file objects\n",
    "headobj = bf.HeadFile(wspath+name+'.hds')\n",
    "times = headobj.get_times()\n",
    "cbb = bf.CellBudgetFile(wspath+name+'.cbc')\n",
    "\n",
    "fname = os.path.join(ws, 'MT3D001.UCN')\n",
    "ucnobj = flopy.utils.UcnFile(fname)\n",
    "timesconc = ucnobj.get_times()\n",
    "conc = ucnobj.get_alldata()\n",
    "\n",
    "fname = os.path.join(ws, 'MT3D001.OBS')\n",
    "if os.path.isfile(fname):\n",
    "    cvt = mt.load_obs(fname)\n",
    "else:\n",
    "    cvt = None\n",
    "\n",
    "fname = os.path.join(ws, 'MT3D001.MAS')\n",
    "mvt = mt.load_mas(fname)"
   ]
  },
  {
   "cell_type": "code",
   "execution_count": null,
   "metadata": {},
   "outputs": [],
   "source": []
  },
  {
   "cell_type": "code",
   "execution_count": null,
   "metadata": {},
   "outputs": [],
   "source": []
  },
  {
   "cell_type": "code",
   "execution_count": null,
   "metadata": {},
   "outputs": [],
   "source": []
  },
  {
   "cell_type": "code",
   "execution_count": null,
   "metadata": {},
   "outputs": [],
   "source": []
  }
 ],
 "metadata": {
  "kernelspec": {
   "display_name": "Python 3",
   "language": "python",
   "name": "python3"
  },
  "language_info": {
   "codemirror_mode": {
    "name": "ipython",
    "version": 3
   },
   "file_extension": ".py",
   "mimetype": "text/x-python",
   "name": "python",
   "nbconvert_exporter": "python",
   "pygments_lexer": "ipython3",
   "version": "3.7.3"
  }
 },
 "nbformat": 4,
 "nbformat_minor": 2
}
